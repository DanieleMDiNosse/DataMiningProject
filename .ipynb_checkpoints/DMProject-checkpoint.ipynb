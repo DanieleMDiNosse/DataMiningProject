{
 "cells": [
  {
   "cell_type": "markdown",
   "metadata": {
    "id": "V7Lv-rze_crQ"
   },
   "source": [
    "# Data Mining Project"
   ]
  },
  {
   "cell_type": "markdown",
   "metadata": {
    "id": "dkbnyhyb_crW"
   },
   "source": [
    "Authors:\n",
    "    Di Nosse Daniele Maria,\n",
    "    Lasala Angelo,\n",
    "    Paradiso Raffaele"
   ]
  },
  {
   "cell_type": "markdown",
   "metadata": {
    "id": "CoYvjhkO_crX"
   },
   "source": [
    "!pip install outlier_utils"
   ]
  },
  {
   "cell_type": "code",
   "execution_count": null,
   "metadata": {
    "colab": {
     "base_uri": "https://localhost:8080/"
    },
    "id": "439hZvXg_nHY",
    "outputId": "1125cbb0-edb7-469a-822a-18fbd522d52d"
   },
   "outputs": [],
   "source": [
    "pip install outlier_utils"
   ]
  },
  {
   "cell_type": "markdown",
   "metadata": {
    "id": "cXC2yuJp_crX"
   },
   "source": [
    "Moduli da importare"
   ]
  },
  {
   "cell_type": "code",
   "execution_count": 1,
   "metadata": {
    "id": "efaYQIjd_crY"
   },
   "outputs": [],
   "source": [
    "%matplotlib inline\n",
    "import math\n",
    "import re # regular expression\n",
    "import numpy as np\n",
    "import pandas as pd\n",
    "import scipy\n",
    "from scipy.spatial.distance import pdist, squareform\n",
    "import matplotlib.pyplot as plt\n",
    "from matplotlib.lines import Line2D\n",
    "from outliers import smirnov_grubbs as grubbs\n",
    "from sklearn.decomposition import PCA\n",
    "from sklearn.preprocessing import StandardScaler, MinMaxScaler\n",
    "from sklearn.cluster import DBSCAN"
   ]
  },
  {
   "cell_type": "markdown",
   "metadata": {
    "id": "bkEuMvRzBPvv"
   },
   "source": [
    "# Operazioni base ed operazioni preliminari"
   ]
  },
  {
   "cell_type": "markdown",
   "metadata": {
    "id": "CScsN9w9_crc"
   },
   "source": [
    "Importare il DataFrame"
   ]
  },
  {
   "cell_type": "code",
   "execution_count": 2,
   "metadata": {
    "colab": {
     "base_uri": "https://localhost:8080/",
     "height": 369
    },
    "id": "AmeETD7n_crc",
    "outputId": "5a018c1d-f942-495a-b9ef-d59c063006ed"
   },
   "outputs": [
    {
     "data": {
      "text/plain": [
       "(1470, 33)"
      ]
     },
     "execution_count": 2,
     "metadata": {},
     "output_type": "execute_result"
    }
   ],
   "source": [
    "df = pd.read_csv('Train+Test.csv') #(delimiter='\\t')\n",
    "df.shape"
   ]
  },
  {
   "cell_type": "markdown",
   "metadata": {
    "id": "FdzTXUQS_crf"
   },
   "source": [
    "Operazioni base su DataFrame"
   ]
  },
  {
   "cell_type": "code",
   "execution_count": null,
   "metadata": {
    "id": "m6y5ECq__crf"
   },
   "outputs": [],
   "source": [
    "# print(df.head(3)) # Print prime 3 righe\n",
    "# print(df.tail(3)) # Print ultime 3 righe\n",
    "# print(df.columns) # Print attribute\n",
    "# print(df['Age'][0:5]) # Print una sola colonna e prime 5 righe\n",
    "# print(df[['Age', 'JobLevel']]) # Print più colonne\n",
    "# print(df.iloc[1:4]) # Stampa intere righe (ultima esclusa)\n",
    "# print(df.iloc[1,1]) # Stampa un elemento preciso in questo caso riga 1 colonna 1\n",
    "# print(df.loc[df['Attrition'] == 'Yes']) # Finding a specific value for the attribute in a dataset\n",
    "# print(df.loc[df['Attrition'].str.contains('Yes|no', flags=re.I, regex=True)])\n",
    "# print(df.dtypes) # Stampa il tipo degli attributi\n",
    "# print(df.shape) # Shape del DataFrame\n",
    "# print(df.sort_values(['Age', 'YearsWithCurrManager'], ascending=[1,0])) #sorted data (NaN in coda)\n",
    "# print(df.describe()) # print count,mean,std,min,25%,50%,75%,max\n",
    "# print(df.loc[~df['MaritalStatus'].str.contains('Single')]) # Drop tutte le righe con single in marital status\n",
    "# print(df['Age'].unique()) # valori non ripetuti attributo \"Age\"\n",
    "# print(df.groupby(['Age']).mean().sort_values('YearsWithCurrManager', ascending=False))# valori divisi in gruppi per età\n",
    "\n",
    "# df['T'] = df[''] + df[''] # Addizionare colonne\n",
    "# df['T'] = df.iloc[:, i:j].sum(axis=1) #axis=1 somma orizzontalmente, =0 verticalmente\n",
    "# df.to_csv = ('.csv', index=False)\n",
    "# df.to_excel = ('.xlsx', index=False)\n",
    "# df.to_csv = ('.txt', index=False, sep='\\t')\n",
    "\n",
    "#Stampa minimo e massimo dei valori nelle singole colonne e i loro range:\n",
    "# 1° modo\n",
    "# l = [0,3,5,6,8,10,11,12,14,16,17,18,21,22,23,24,25,26,27,28,29,30,31,32]\n",
    "# for i in range(len(l)):\n",
    "#    print(f' {l[i]} : min e max di {df.columns[l[i]]} sono {min(df.values[:,l[i]])} e\n",
    "#                     {max(df.values[:,l[i]])}. Range -->\n",
    "#                     {max(df.values[:,l[i]])-min(df.values[:,l[i]])}.')\n",
    "\n",
    "# 2° modo\n",
    "# print(df.min())\n",
    "# print(numeric.max() - numeric.min())\n",
    "# print((numeric.max() - numeric.min()).idxmax())\n",
    "# print(df[(numeric.max() - numeric.min()).idxmax()])\n",
    "\n",
    "# etamin = (df[(df['Age'] > 18) & (df['Age'] < 24)]) # Solo le righe con valori di età >17 & < 19\n",
    "# etamin = etamin.reset_index(drop=True) # Resetta indici\n",
    "\n",
    "#conoscere i valori max e min del guadagno mensile di gruppi organizzati per relazione coniugale\n",
    "# print(df.groupby(['MaritalStatus'], sort=False)['MonthlyIncome'].max())\n",
    "# print(df.groupby(['MaritalStatus'], sort=False)['MonthlyIncome'].min())"
   ]
  },
  {
   "cell_type": "markdown",
   "metadata": {
    "id": "GLJizUFF_crm"
   },
   "source": [
    "## Statistica"
   ]
  },
  {
   "cell_type": "code",
   "execution_count": 3,
   "metadata": {
    "id": "WlTNrCPC_crp"
   },
   "outputs": [],
   "source": [
    "df.replace({'EnvironmentSatisfaction':{1 : 'Low', 2 : 'Medium',\n",
    "                                       3 : 'High', 4 : 'Very High'}},inplace=True)\n",
    "df.replace({'JobInvolvement':{1 : 'Low', 2 : 'Medium',\n",
    "                              3 : 'High', 4 : 'Very High'}},inplace=True)\n",
    "df.replace({'JobSatisfaction':{1 : 'Low', 2 : 'Medium',\n",
    "                               3 : 'High', 4 : 'Very High'}},inplace=True)\n",
    "df.replace({'RelationshipSatisfaction':{1 : 'Low', 2 : 'Medium',\n",
    "                                        3 : 'High', 4 : 'Very High'}},inplace=True)\n",
    "df.replace({'Education':{1 : 'Below College', 2 : 'College',\n",
    "                         3 : 'Bachelor', 4 : 'Master', 5 : 'Doctor'}},inplace=True)\n",
    "df.replace({'WorkLifeBalance':{1 : 'Bad', 2 : 'Good',\n",
    "                               3 : 'Better', 4 : 'Best'}},inplace=True)\n",
    "df.replace({'PerformanceRating':{1 : 'Low', 2 : 'Good',\n",
    "                                 3 : 'Excellent', 4 : 'Outstanding'}},inplace=True)\n",
    "df.replace({'JobLevel':{1 : '1', 2 : '2', 3 : '3', 4 : '4', 5 : '5'}},inplace=True)\n",
    "\n",
    "# df.to_excel('NewDataFrame.xlsx') # NUOVO DATA FRAME MODIFICATO\n"
   ]
  },
  {
   "cell_type": "markdown",
   "metadata": {},
   "source": [
    "**JobLevel** --> valori numerici ma chiaramente categorici,\n",
    "non abbiamo ulteriori informazioni, chiediamo aiuto, per piacere rispondete. stop.\n",
    "**TotalWorkingYear** --> non ha molto senso a nostro avviso\n",
    "cioè a 18 anni non puoi aver lavorato una media di 8 anni(QUALITÀ BASSA)"
   ]
  },
  {
   "cell_type": "code",
   "execution_count": 4,
   "metadata": {
    "id": "WlTNrCPC_crp"
   },
   "outputs": [],
   "source": [
    "p = df['TrainingTimesLastYear'].value_counts(normalize=True) * 100 # percent. degli attributi categ.\n",
    "\n",
    "\n",
    "categorical = df.select_dtypes(exclude = 'number') # SELEZIONA SOLO LE COLONNE CATEGORICHE\n",
    "numeric = df.select_dtypes('number') # SELEZIONA SOLO LE COLONNE NUMERICHE\n",
    "# print(categorical.iloc[0]) # PRINT DELLA PRIMA RIGA DI CATEGORICAL"
   ]
  },
  {
   "cell_type": "markdown",
   "metadata": {},
   "source": [
    "**Matrice di Correlazione**"
   ]
  },
  {
   "cell_type": "code",
   "execution_count": 5,
   "metadata": {},
   "outputs": [
    {
     "name": "stdout",
     "output_type": "stream",
     "text": [
      "                              Age  DailyRate  DistanceFromHome  HourlyRate  \\\n",
      "Age                      1.000000  -0.032513          0.015202    0.035321   \n",
      "DailyRate               -0.032513   1.000000         -0.004985    0.023381   \n",
      "DistanceFromHome         0.015202  -0.004985          1.000000    0.031131   \n",
      "HourlyRate               0.035321   0.023381          0.031131    1.000000   \n",
      "MonthlyIncome            0.516530  -0.013992          0.000934   -0.011316   \n",
      "MonthlyRate              0.048421  -0.032182          0.027473   -0.015297   \n",
      "NumCompaniesWorked      -0.011009   0.038153         -0.029251    0.022157   \n",
      "PercentSalaryHike       -0.019252   0.022704          0.040235   -0.009062   \n",
      "StandardHours                 NaN        NaN               NaN         NaN   \n",
      "StockOptionLevel         0.040024   0.042143          0.044872    0.050263   \n",
      "TotalWorkingYears        0.013214   0.014515          0.004628   -0.002334   \n",
      "TrainingTimesLastYear   -0.017919  -0.014715          0.006346   -0.011816   \n",
      "YearsAtCompany           0.317141  -0.011391          0.023703    0.003561   \n",
      "YearsInCurrentRole       0.028593   0.009932          0.018845   -0.024106   \n",
      "YearsSinceLastPromotion  0.005130  -0.033229          0.010029   -0.026716   \n",
      "YearsWithCurrManager     0.004606  -0.026363          0.014406   -0.020123   \n",
      "\n",
      "                         MonthlyIncome  MonthlyRate  NumCompaniesWorked  \\\n",
      "Age                           0.516530     0.048421           -0.011009   \n",
      "DailyRate                    -0.013992    -0.032182            0.038153   \n",
      "DistanceFromHome              0.000934     0.027473           -0.029251   \n",
      "HourlyRate                   -0.011316    -0.015297            0.022157   \n",
      "MonthlyIncome                 1.000000     0.010043           -0.010827   \n",
      "MonthlyRate                   0.010043     1.000000            0.017521   \n",
      "NumCompaniesWorked           -0.010827     0.017521            1.000000   \n",
      "PercentSalaryHike             0.001203    -0.006429           -0.010238   \n",
      "StandardHours                      NaN          NaN                 NaN   \n",
      "StockOptionLevel             -0.026848    -0.034323            0.030075   \n",
      "TotalWorkingYears            -0.004734     0.026442            0.237639   \n",
      "TrainingTimesLastYear         0.017903    -0.022919            0.022272   \n",
      "YearsAtCompany                0.493515    -0.040478            0.032850   \n",
      "YearsInCurrentRole            0.008859    -0.012815           -0.090754   \n",
      "YearsSinceLastPromotion      -0.011097     0.001567           -0.036814   \n",
      "YearsWithCurrManager         -0.013483    -0.036746           -0.110319   \n",
      "\n",
      "                         PercentSalaryHike  StandardHours  StockOptionLevel  \\\n",
      "Age                              -0.019252            NaN          0.040024   \n",
      "DailyRate                         0.022704            NaN          0.042143   \n",
      "DistanceFromHome                  0.040235            NaN          0.044872   \n",
      "HourlyRate                       -0.009062            NaN          0.050263   \n",
      "MonthlyIncome                     0.001203            NaN         -0.026848   \n",
      "MonthlyRate                      -0.006429            NaN         -0.034323   \n",
      "NumCompaniesWorked               -0.010238            NaN          0.030075   \n",
      "PercentSalaryHike                 1.000000            NaN          0.007528   \n",
      "StandardHours                          NaN            NaN               NaN   \n",
      "StockOptionLevel                  0.007528            NaN          1.000000   \n",
      "TotalWorkingYears                -0.020608            NaN          0.010136   \n",
      "TrainingTimesLastYear             0.055883            NaN         -0.011780   \n",
      "YearsAtCompany                    0.011130            NaN         -0.009569   \n",
      "YearsInCurrentRole               -0.001520            NaN          0.050818   \n",
      "YearsSinceLastPromotion          -0.022154            NaN          0.014352   \n",
      "YearsWithCurrManager             -0.011985            NaN          0.024698   \n",
      "\n",
      "                         TotalWorkingYears  TrainingTimesLastYear  \\\n",
      "Age                               0.013214              -0.017919   \n",
      "DailyRate                         0.014515              -0.014715   \n",
      "DistanceFromHome                  0.004628               0.006346   \n",
      "HourlyRate                       -0.002334              -0.011816   \n",
      "MonthlyIncome                    -0.004734               0.017903   \n",
      "MonthlyRate                       0.026442              -0.022919   \n",
      "NumCompaniesWorked                0.237639               0.022272   \n",
      "PercentSalaryHike                -0.020608               0.055883   \n",
      "StandardHours                          NaN                    NaN   \n",
      "StockOptionLevel                  0.010136              -0.011780   \n",
      "TotalWorkingYears                 1.000000              -0.027231   \n",
      "TrainingTimesLastYear            -0.027231               1.000000   \n",
      "YearsAtCompany                    0.033530               0.003372   \n",
      "YearsInCurrentRole                0.460365              -0.010399   \n",
      "YearsSinceLastPromotion           0.404858               0.008426   \n",
      "YearsWithCurrManager              0.459188              -0.022206   \n",
      "\n",
      "                         YearsAtCompany  YearsInCurrentRole  \\\n",
      "Age                            0.317141            0.028593   \n",
      "DailyRate                     -0.011391            0.009932   \n",
      "DistanceFromHome               0.023703            0.018845   \n",
      "HourlyRate                     0.003561           -0.024106   \n",
      "MonthlyIncome                  0.493515            0.008859   \n",
      "MonthlyRate                   -0.040478           -0.012815   \n",
      "NumCompaniesWorked             0.032850           -0.090754   \n",
      "PercentSalaryHike              0.011130           -0.001520   \n",
      "StandardHours                       NaN                 NaN   \n",
      "StockOptionLevel              -0.009569            0.050818   \n",
      "TotalWorkingYears              0.033530            0.460365   \n",
      "TrainingTimesLastYear          0.003372           -0.010399   \n",
      "YearsAtCompany                 1.000000            0.018633   \n",
      "YearsInCurrentRole             0.018633            1.000000   \n",
      "YearsSinceLastPromotion       -0.016245            0.548056   \n",
      "YearsWithCurrManager           0.028339            0.714365   \n",
      "\n",
      "                         YearsSinceLastPromotion  YearsWithCurrManager  \n",
      "Age                                     0.005130              0.004606  \n",
      "DailyRate                              -0.033229             -0.026363  \n",
      "DistanceFromHome                        0.010029              0.014406  \n",
      "HourlyRate                             -0.026716             -0.020123  \n",
      "MonthlyIncome                          -0.011097             -0.013483  \n",
      "MonthlyRate                             0.001567             -0.036746  \n",
      "NumCompaniesWorked                     -0.036814             -0.110319  \n",
      "PercentSalaryHike                      -0.022154             -0.011985  \n",
      "StandardHours                                NaN                   NaN  \n",
      "StockOptionLevel                        0.014352              0.024698  \n",
      "TotalWorkingYears                       0.404858              0.459188  \n",
      "TrainingTimesLastYear                   0.008426             -0.022206  \n",
      "YearsAtCompany                         -0.016245              0.028339  \n",
      "YearsInCurrentRole                      0.548056              0.714365  \n",
      "YearsSinceLastPromotion                 1.000000              0.510224  \n",
      "YearsWithCurrManager                    0.510224              1.000000  \n",
      "0.5165302169349649\n",
      "0.04214279637720676\n",
      "0.044871998853181445\n",
      "0.050263399065119764\n",
      "0.5165302169349649\n",
      "0.04842133898821764\n",
      "0.23763858978479407\n",
      "0.0558832502811404\n"
     ]
    },
    {
     "ename": "ValueError",
     "evalue": "max() arg is an empty sequence",
     "output_type": "error",
     "traceback": [
      "\u001b[1;31m---------------------------------------------------------------------------\u001b[0m",
      "\u001b[1;31mValueError\u001b[0m                                Traceback (most recent call last)",
      "\u001b[1;32m<ipython-input-5-f1a76aefab34>\u001b[0m in \u001b[0;36m<module>\u001b[1;34m\u001b[0m\n\u001b[0;32m      4\u001b[0m     \u001b[0mvecmax\u001b[0m \u001b[1;33m=\u001b[0m \u001b[0mcorrmatrix\u001b[0m\u001b[1;33m.\u001b[0m\u001b[0miloc\u001b[0m\u001b[1;33m[\u001b[0m\u001b[0mindex\u001b[0m\u001b[1;33m]\u001b[0m\u001b[1;33m\u001b[0m\u001b[1;33m\u001b[0m\u001b[0m\n\u001b[0;32m      5\u001b[0m     \u001b[0mvecmax2\u001b[0m \u001b[1;33m=\u001b[0m \u001b[1;33m[\u001b[0m\u001b[0mi\u001b[0m \u001b[1;32mfor\u001b[0m \u001b[0mi\u001b[0m \u001b[1;32min\u001b[0m \u001b[0mvecmax\u001b[0m \u001b[1;32mif\u001b[0m \u001b[0mi\u001b[0m \u001b[1;33m<\u001b[0m \u001b[1;36m1\u001b[0m\u001b[1;33m]\u001b[0m\u001b[1;33m\u001b[0m\u001b[1;33m\u001b[0m\u001b[0m\n\u001b[1;32m----> 6\u001b[1;33m     \u001b[0mprint\u001b[0m\u001b[1;33m(\u001b[0m\u001b[0mmax\u001b[0m\u001b[1;33m(\u001b[0m\u001b[0mvecmax2\u001b[0m\u001b[1;33m)\u001b[0m\u001b[1;33m)\u001b[0m\u001b[1;33m\u001b[0m\u001b[1;33m\u001b[0m\u001b[0m\n\u001b[0m\u001b[0;32m      7\u001b[0m \u001b[0mcorrmatrix\u001b[0m\u001b[1;33m.\u001b[0m\u001b[0mto_excel\u001b[0m\u001b[1;33m(\u001b[0m\u001b[1;34m'MatriceDiCorrelazione.xlsx'\u001b[0m\u001b[1;33m)\u001b[0m \u001b[1;31m# ESPORTA MATRICE CORRELAZIONE\u001b[0m\u001b[1;33m\u001b[0m\u001b[1;33m\u001b[0m\u001b[0m\n\u001b[0;32m      8\u001b[0m \u001b[0mpd\u001b[0m\u001b[1;33m.\u001b[0m\u001b[0mplotting\u001b[0m\u001b[1;33m.\u001b[0m\u001b[0mscatter_matrix\u001b[0m\u001b[1;33m(\u001b[0m\u001b[0mdf\u001b[0m\u001b[1;33m.\u001b[0m\u001b[0miloc\u001b[0m\u001b[1;33m[\u001b[0m\u001b[1;33m:\u001b[0m\u001b[1;33m,\u001b[0m\u001b[1;33m:\u001b[0m\u001b[1;33m]\u001b[0m\u001b[1;33m,\u001b[0m \u001b[0mdiagonal\u001b[0m\u001b[1;33m=\u001b[0m\u001b[1;34m'kde'\u001b[0m\u001b[1;33m)\u001b[0m \u001b[1;31m# PLOT MATRICE SCATTER\u001b[0m\u001b[1;33m\u001b[0m\u001b[1;33m\u001b[0m\u001b[0m\n",
      "\u001b[1;31mValueError\u001b[0m: max() arg is an empty sequence"
     ]
    }
   ],
   "source": [
    "corrmatrix = df.corr()\n",
    "print(corrmatrix)\n",
    "for index in range(len(corrmatrix.columns)): # Iteration for each columns\n",
    "    vecmax = corrmatrix.iloc[index]\n",
    "    vecmax2 = [i for i in vecmax if i < 1]\n",
    "    print(max(vecmax2))\n",
    "corrmatrix.to_excel('MatriceDiCorrelazione.xlsx') # ESPORTA MATRICE CORRELAZIONE\n",
    "pd.plotting.scatter_matrix(df.iloc[:,:], diagonal='kde') # PLOT MATRICE SCATTER\n",
    "plt.show()"
   ]
  },
  {
   "cell_type": "markdown",
   "metadata": {},
   "source": [
    "# Missing Values"
   ]
  },
  {
   "cell_type": "markdown",
   "metadata": {},
   "source": [
    "**ATTRIBUTI CATEGORICI**"
   ]
  },
  {
   "cell_type": "markdown",
   "metadata": {},
   "source": [
    "Nell'attributo Business Travel c'è una frequenza di NaN pari al circa 9%. Siccome la granulosità dell'attributo ricopre in maniera completa lo spettro delle classi plausibilmente attribuibili a tale attributo abbiamo deciso di valutare se ci fosse correlazione con gli altri attributi presenti nel data frame. Per quanto riguarda quelli numerici, abbiamo utilizzato gli scatter plot, mentre per quelli nominali abbiamo eseguito il test di indipendenza del chi quadro. In entrambi i casi non si evincono correlazioni significative (p value > 0.05 sempre). Di conseguenza DROP THE COLUMN"
   ]
  },
  {
   "cell_type": "code",
   "execution_count": null,
   "metadata": {},
   "outputs": [],
   "source": [
    "print(categorical.isnull().sum())"
   ]
  },
  {
   "cell_type": "code",
   "execution_count": 6,
   "metadata": {},
   "outputs": [
    {
     "name": "stdout",
     "output_type": "stream",
     "text": [
      "BusinessTravel Attrition p value is 0.9885418093292273\n",
      "BusinessTravel Department p value is 0.5526157853951907\n",
      "BusinessTravel Education p value is 0.13853994701740463\n",
      "BusinessTravel EducationField p value is 0.9167768159574377\n",
      "BusinessTravel EnvironmentSatisfaction p value is 0.5230164918977038\n",
      "BusinessTravel Gender p value is 0.16875220606753663\n",
      "BusinessTravel JobInvolvement p value is 0.4549516050307485\n",
      "BusinessTravel JobLevel p value is 0.30476370381215095\n",
      "BusinessTravel JobRole p value is 0.4806293464213549\n",
      "BusinessTravel JobSatisfaction p value is 0.5410121943868527\n",
      "BusinessTravel MaritalStatus p value is 0.9021991275547572\n",
      "BusinessTravel Over18 p value is 1.0\n",
      "BusinessTravel OverTime p value is 0.1680064723795561\n",
      "BusinessTravel PerformanceRating p value is 0.9047312055359451\n",
      "BusinessTravel RelationshipSatisfaction p value is 0.2674458931224273\n",
      "BusinessTravel WorkLifeBalance p value is 0.5195128306636891\n"
     ]
    }
   ],
   "source": [
    "for index, columns in categorical.iteritems():\n",
    "    if index != 'BusinessTravel':\n",
    "        ct = pd.crosstab(categorical['BusinessTravel'], categorical[index], margins=True)\n",
    "        obs = np.array([ct.iloc[0][0:4].values, ct.iloc[1][0:4].values])\n",
    "        print('BusinessTravel', index, 'p value is', scipy.stats.chi2_contingency(obs)[0:3][1])\n"
   ]
  },
  {
   "cell_type": "code",
   "execution_count": 7,
   "metadata": {
    "id": "3aD-tsR4_crn"
   },
   "outputs": [],
   "source": [
    "###########statistica = df.describe()\n",
    "#############statistica.to_excel('statistica.xlsx') #esporta la tabella in excel\n",
    "df = df.drop(columns=['StandardHours']) # Rimuovere colonne\n",
    "df = df.drop(columns=['Over18'])\n",
    "df = df.drop(columns=['BusinessTravel'])\n",
    "############p = df['TrainingTimesLastYear'].value_counts(normalize=True) * 100 # percentntuale degli attributi categorici\n"
   ]
  },
  {
   "cell_type": "markdown",
   "metadata": {},
   "source": [
    "Gestiamo i restanti missing values per gli attributi categorici: Gender e PerformanceRating.\n",
    "\n",
    "Per quanto riguarda PerformanceRating, aggiungiamo una nuova classe 'MISSING', poiché abbiamo notato che la granulosità dell'attributo non ricopre tutto lo spettro plausibile. I valori di MISSING presupponiamo possano appartenere ad una classe di ordine inferiore a Excellent"
   ]
  },
  {
   "cell_type": "code",
   "execution_count": 8,
   "metadata": {},
   "outputs": [
    {
     "name": "stdout",
     "output_type": "stream",
     "text": [
      "0         Excellent\n",
      "1       Outstanding\n",
      "2       Outstanding\n",
      "3         Excellent\n",
      "4       Outstanding\n",
      "           ...     \n",
      "1465      Excellent\n",
      "1466      Excellent\n",
      "1467        MISSING\n",
      "1468      Excellent\n",
      "1469        MISSING\n",
      "Name: PerformanceRating, Length: 1470, dtype: object\n"
     ]
    },
    {
     "name": "stderr",
     "output_type": "stream",
     "text": [
      "<ipython-input-8-64026eaa990c>:3: SettingWithCopyWarning: \n",
      "A value is trying to be set on a copy of a slice from a DataFrame\n",
      "\n",
      "See the caveats in the documentation: https://pandas.pydata.org/pandas-docs/stable/user_guide/indexing.html#returning-a-view-versus-a-copy\n",
      "  df['PerformanceRating'][index] = 'MISSING'\n"
     ]
    }
   ],
   "source": [
    "for index in range(len(df['PerformanceRating'])):\n",
    "    if type(df['PerformanceRating'][index]) != type('peppino'):\n",
    "        df['PerformanceRating'][index] = 'MISSING'\n",
    "print(df['PerformanceRating'])\n",
    "    \n"
   ]
  },
  {
   "cell_type": "code",
   "execution_count": 9,
   "metadata": {},
   "outputs": [
    {
     "name": "stdout",
     "output_type": "stream",
     "text": [
      "0         Male\n",
      "1         Male\n",
      "2         Male\n",
      "3         Male\n",
      "4         Male\n",
      "         ...  \n",
      "1465    Female\n",
      "1466    Female\n",
      "1467      Male\n",
      "1468      Male\n",
      "1469    Female\n",
      "Name: Gender, Length: 1470, dtype: object\n"
     ]
    },
    {
     "name": "stderr",
     "output_type": "stream",
     "text": [
      "<ipython-input-9-fa44fce7fb99>:5: SettingWithCopyWarning: \n",
      "A value is trying to be set on a copy of a slice from a DataFrame\n",
      "\n",
      "See the caveats in the documentation: https://pandas.pydata.org/pandas-docs/stable/user_guide/indexing.html#returning-a-view-versus-a-copy\n",
      "  df['Gender'][index] = 'Male'\n",
      "<ipython-input-9-fa44fce7fb99>:7: SettingWithCopyWarning: \n",
      "A value is trying to be set on a copy of a slice from a DataFrame\n",
      "\n",
      "See the caveats in the documentation: https://pandas.pydata.org/pandas-docs/stable/user_guide/indexing.html#returning-a-view-versus-a-copy\n",
      "  df['Gender'][index] = 'Female'\n"
     ]
    },
    {
     "data": {
      "text/plain": [
       "Male      60.068027\n",
       "Female    39.931973\n",
       "Name: Gender, dtype: float64"
      ]
     },
     "execution_count": 9,
     "metadata": {},
     "output_type": "execute_result"
    }
   ],
   "source": [
    "for index in range(len(df['Gender'])):\n",
    "    if type(df['Gender'][index]) != type('peppino'):\n",
    "        n = np.random.random()\n",
    "        if n < 0.5721:\n",
    "            df['Gender'][index] = 'Male'\n",
    "        else:\n",
    "            df['Gender'][index] = 'Female'\n",
    "        \n",
    "print(df['Gender']) \n",
    "df['Gender'].value_counts(normalize=True) * 100\n"
   ]
  },
  {
   "cell_type": "markdown",
   "metadata": {},
   "source": [
    "**ATTRIBUTI NUMERICI**"
   ]
  },
  {
   "cell_type": "code",
   "execution_count": null,
   "metadata": {},
   "outputs": [],
   "source": [
    "print(df.isnull().sum())"
   ]
  },
  {
   "cell_type": "markdown",
   "metadata": {},
   "source": [
    "**Attenzione: Runnare prima le prime celle, quelle relative agli istogrammi, poi le successive**\n",
    "\n",
    "I missing values negli attributi numerici sono gestiti nel seguente modo:\n",
    "1. Valutiamo le frequenze relative agli intervalli scelti come bins negli istrogrammi\n",
    "2. Sostituiamo i missing values con valori estratti dalla stessa distribuzione, ovvero aggiungiamo ad   ogni bin un numero pari alla mediana del bin con una probabilità uguale alla frequenza di quel bin"
   ]
  },
  {
   "cell_type": "markdown",
   "metadata": {},
   "source": [
    "**Age**"
   ]
  },
  {
   "cell_type": "code",
   "execution_count": null,
   "metadata": {},
   "outputs": [],
   "source": [
    "plt.hist(df['Age'], bins=9,edgecolor='k')\n",
    "plt.xticks(np.arange(18,60+6,7))\n",
    "data = df['Age'].fillna(0)\n",
    "bins = np.arange(18,60,7)\n",
    "histdata = np.histogram(data,bins)\n",
    "print(histdata)\n",
    "frequencies = histdata[0]/1258\n",
    "valore_medio = histdata[1] + 3.5 \n",
    "print(a, valore_medio)"
   ]
  },
  {
   "cell_type": "code",
   "execution_count": 10,
   "metadata": {},
   "outputs": [
    {
     "name": "stderr",
     "output_type": "stream",
     "text": [
      "<ipython-input-10-83d0ba092c44>:9: SettingWithCopyWarning: \n",
      "A value is trying to be set on a copy of a slice from a DataFrame\n",
      "\n",
      "See the caveats in the documentation: https://pandas.pydata.org/pandas-docs/stable/user_guide/indexing.html#returning-a-view-versus-a-copy\n",
      "  df['Age'][index] = 33.5\n",
      "<ipython-input-10-83d0ba092c44>:17: SettingWithCopyWarning: \n",
      "A value is trying to be set on a copy of a slice from a DataFrame\n",
      "\n",
      "See the caveats in the documentation: https://pandas.pydata.org/pandas-docs/stable/user_guide/indexing.html#returning-a-view-versus-a-copy\n",
      "  df['Age'][index] = 57.5\n",
      "<ipython-input-10-83d0ba092c44>:7: SettingWithCopyWarning: \n",
      "A value is trying to be set on a copy of a slice from a DataFrame\n",
      "\n",
      "See the caveats in the documentation: https://pandas.pydata.org/pandas-docs/stable/user_guide/indexing.html#returning-a-view-versus-a-copy\n",
      "  df['Age'][index] = 27.5\n",
      "<ipython-input-10-83d0ba092c44>:15: SettingWithCopyWarning: \n",
      "A value is trying to be set on a copy of a slice from a DataFrame\n",
      "\n",
      "See the caveats in the documentation: https://pandas.pydata.org/pandas-docs/stable/user_guide/indexing.html#returning-a-view-versus-a-copy\n",
      "  df['Age'][index] = 51.5\n",
      "<ipython-input-10-83d0ba092c44>:13: SettingWithCopyWarning: \n",
      "A value is trying to be set on a copy of a slice from a DataFrame\n",
      "\n",
      "See the caveats in the documentation: https://pandas.pydata.org/pandas-docs/stable/user_guide/indexing.html#returning-a-view-versus-a-copy\n",
      "  df['Age'][index] = 45.5\n",
      "<ipython-input-10-83d0ba092c44>:11: SettingWithCopyWarning: \n",
      "A value is trying to be set on a copy of a slice from a DataFrame\n",
      "\n",
      "See the caveats in the documentation: https://pandas.pydata.org/pandas-docs/stable/user_guide/indexing.html#returning-a-view-versus-a-copy\n",
      "  df['Age'][index] = 39.5\n",
      "<ipython-input-10-83d0ba092c44>:5: SettingWithCopyWarning: \n",
      "A value is trying to be set on a copy of a slice from a DataFrame\n",
      "\n",
      "See the caveats in the documentation: https://pandas.pydata.org/pandas-docs/stable/user_guide/indexing.html#returning-a-view-versus-a-copy\n",
      "  df['Age'][index] = 21.5\n"
     ]
    }
   ],
   "source": [
    "index_list = df['Age'].index[df['Age'].apply(np.isnan)]\n",
    "for index in index_list:\n",
    "        n = np.random.random()\n",
    "        if n < 0.043:\n",
    "            df['Age'][index] = 21.5\n",
    "        if (n>0.043) and (n<0.215):\n",
    "            df['Age'][index] = 27.5\n",
    "        if (n>0.215) and (n<0.485):\n",
    "            df['Age'][index] = 33.5\n",
    "        if (n>0.485) and (n<0.706):\n",
    "            df['Age'][index] = 39.5\n",
    "        if (n>0.706) and (n<0.853):\n",
    "            df['Age'][index] = 45.5\n",
    "        if (n>0.853) and (n<0.941):\n",
    "            df['Age'][index] = 51.5\n",
    "        if (n>0.941) and (n<1.):\n",
    "            df['Age'][index] = 57.5"
   ]
  },
  {
   "cell_type": "markdown",
   "metadata": {},
   "source": [
    "**MonthlyIncome**"
   ]
  },
  {
   "cell_type": "code",
   "execution_count": null,
   "metadata": {},
   "outputs": [],
   "source": [
    "plt.hist(df['MonthlyIncome'], bins=9,edgecolor='k')\n",
    "plt.xticks(np.arange(1009,19999+2110,2110))\n",
    "data = df['MonthlyIncome'].fillna(0)\n",
    "bins = np.arange(1009,19999,2110)\n",
    "histdata = np.histogram(data,bins)\n",
    "print(histdata)\n",
    "frequencies = histdata[0]/1190\n",
    "valore_medio = histdata[1] + 1055 \n",
    "print(a, valore_medio)"
   ]
  },
  {
   "cell_type": "code",
   "execution_count": 11,
   "metadata": {},
   "outputs": [
    {
     "name": "stderr",
     "output_type": "stream",
     "text": [
      "<ipython-input-11-011b44e1f4e7>:5: SettingWithCopyWarning: \n",
      "A value is trying to be set on a copy of a slice from a DataFrame\n",
      "\n",
      "See the caveats in the documentation: https://pandas.pydata.org/pandas-docs/stable/user_guide/indexing.html#returning-a-view-versus-a-copy\n",
      "  df['MonthlyIncome'][index] = 2064\n",
      "<ipython-input-11-011b44e1f4e7>:9: SettingWithCopyWarning: \n",
      "A value is trying to be set on a copy of a slice from a DataFrame\n",
      "\n",
      "See the caveats in the documentation: https://pandas.pydata.org/pandas-docs/stable/user_guide/indexing.html#returning-a-view-versus-a-copy\n",
      "  df['MonthlyIncome'][index] = 6284\n",
      "<ipython-input-11-011b44e1f4e7>:7: SettingWithCopyWarning: \n",
      "A value is trying to be set on a copy of a slice from a DataFrame\n",
      "\n",
      "See the caveats in the documentation: https://pandas.pydata.org/pandas-docs/stable/user_guide/indexing.html#returning-a-view-versus-a-copy\n",
      "  df['MonthlyIncome'][index] = 4174\n",
      "<ipython-input-11-011b44e1f4e7>:11: SettingWithCopyWarning: \n",
      "A value is trying to be set on a copy of a slice from a DataFrame\n",
      "\n",
      "See the caveats in the documentation: https://pandas.pydata.org/pandas-docs/stable/user_guide/indexing.html#returning-a-view-versus-a-copy\n",
      "  df['MonthlyIncome'][index] = 8394\n",
      "<ipython-input-11-011b44e1f4e7>:15: SettingWithCopyWarning: \n",
      "A value is trying to be set on a copy of a slice from a DataFrame\n",
      "\n",
      "See the caveats in the documentation: https://pandas.pydata.org/pandas-docs/stable/user_guide/indexing.html#returning-a-view-versus-a-copy\n",
      "  df['MonthlyIncome'][index] = 12614\n",
      "<ipython-input-11-011b44e1f4e7>:17: SettingWithCopyWarning: \n",
      "A value is trying to be set on a copy of a slice from a DataFrame\n",
      "\n",
      "See the caveats in the documentation: https://pandas.pydata.org/pandas-docs/stable/user_guide/indexing.html#returning-a-view-versus-a-copy\n",
      "  df['MonthlyIncome'][index] = 14724\n",
      "<ipython-input-11-011b44e1f4e7>:19: SettingWithCopyWarning: \n",
      "A value is trying to be set on a copy of a slice from a DataFrame\n",
      "\n",
      "See the caveats in the documentation: https://pandas.pydata.org/pandas-docs/stable/user_guide/indexing.html#returning-a-view-versus-a-copy\n",
      "  df['MonthlyIncome'][index] = 16834\n",
      "<ipython-input-11-011b44e1f4e7>:13: SettingWithCopyWarning: \n",
      "A value is trying to be set on a copy of a slice from a DataFrame\n",
      "\n",
      "See the caveats in the documentation: https://pandas.pydata.org/pandas-docs/stable/user_guide/indexing.html#returning-a-view-versus-a-copy\n",
      "  df['MonthlyIncome'][index] = 10504\n",
      "<ipython-input-11-011b44e1f4e7>:21: SettingWithCopyWarning: \n",
      "A value is trying to be set on a copy of a slice from a DataFrame\n",
      "\n",
      "See the caveats in the documentation: https://pandas.pydata.org/pandas-docs/stable/user_guide/indexing.html#returning-a-view-versus-a-copy\n",
      "  df['MonthlyIncome'][index] = 18944\n"
     ]
    }
   ],
   "source": [
    "index_list = df['MonthlyIncome'].index[df['MonthlyIncome'].apply(np.isnan)]\n",
    "for index in index_list:\n",
    "        n = np.random.random()\n",
    "        if n < 0.271:\n",
    "            df['MonthlyIncome'][index] = 2064\n",
    "        if (n>0.271) and (n<0.541):\n",
    "            df['MonthlyIncome'][index] = 4174\n",
    "        if (n>0.541) and (n<0.715):\n",
    "            df['MonthlyIncome'][index] = 6284\n",
    "        if (n>0.715) and (n<0.777):\n",
    "            df['MonthlyIncome'][index] = 8394\n",
    "        if (n>0.777) and (n<0.854):\n",
    "            df['MonthlyIncome'][index] = 10504\n",
    "        if (n>0.854) and (n<0.893):\n",
    "            df['MonthlyIncome'][index] = 12614\n",
    "        if (n>0.893) and (n<0.933):\n",
    "            df['MonthlyIncome'][index] = 14724\n",
    "        if (n>0.933) and (n<0.951):\n",
    "            df['MonthlyIncome'][index] = 16834\n",
    "        if (n>0.951) and (n<1.):\n",
    "            df['MonthlyIncome'][index] = 18944"
   ]
  },
  {
   "cell_type": "markdown",
   "metadata": {},
   "source": [
    "**TrainingTimesLastYear**"
   ]
  },
  {
   "cell_type": "code",
   "execution_count": null,
   "metadata": {},
   "outputs": [],
   "source": [
    "plt.hist(df['TrainingTimesLastYear'], bins=(np.arange(0,7+1.5,)-0.5),edgecolor='k')\n",
    "plt.xticks(np.arange(0,7,1))\n",
    "data = df['TrainingTimesLastYear'].fillna(10)\n",
    "bins = np.arange(0,8,1)\n",
    "histdata = np.histogram(data,bins)\n",
    "print(histdata)\n",
    "frequencies = histdata[0]/1178\n",
    "valore_medio = histdata[1] \n",
    "print(frequencies, valore_medio)"
   ]
  },
  {
   "cell_type": "code",
   "execution_count": 12,
   "metadata": {},
   "outputs": [
    {
     "name": "stderr",
     "output_type": "stream",
     "text": [
      "<ipython-input-12-aa1c87db8777>:13: SettingWithCopyWarning: \n",
      "A value is trying to be set on a copy of a slice from a DataFrame\n",
      "\n",
      "See the caveats in the documentation: https://pandas.pydata.org/pandas-docs/stable/user_guide/indexing.html#returning-a-view-versus-a-copy\n",
      "  df['TrainingTimesLastYear'][index] = 4\n",
      "<ipython-input-12-aa1c87db8777>:9: SettingWithCopyWarning: \n",
      "A value is trying to be set on a copy of a slice from a DataFrame\n",
      "\n",
      "See the caveats in the documentation: https://pandas.pydata.org/pandas-docs/stable/user_guide/indexing.html#returning-a-view-versus-a-copy\n",
      "  df['TrainingTimesLastYear'][index] = 2\n",
      "<ipython-input-12-aa1c87db8777>:15: SettingWithCopyWarning: \n",
      "A value is trying to be set on a copy of a slice from a DataFrame\n",
      "\n",
      "See the caveats in the documentation: https://pandas.pydata.org/pandas-docs/stable/user_guide/indexing.html#returning-a-view-versus-a-copy\n",
      "  df['TrainingTimesLastYear'][index] = 5\n",
      "<ipython-input-12-aa1c87db8777>:17: SettingWithCopyWarning: \n",
      "A value is trying to be set on a copy of a slice from a DataFrame\n",
      "\n",
      "See the caveats in the documentation: https://pandas.pydata.org/pandas-docs/stable/user_guide/indexing.html#returning-a-view-versus-a-copy\n",
      "  df['TrainingTimesLastYear'][index] = 6\n",
      "<ipython-input-12-aa1c87db8777>:11: SettingWithCopyWarning: \n",
      "A value is trying to be set on a copy of a slice from a DataFrame\n",
      "\n",
      "See the caveats in the documentation: https://pandas.pydata.org/pandas-docs/stable/user_guide/indexing.html#returning-a-view-versus-a-copy\n",
      "  df['TrainingTimesLastYear'][index] = 3\n",
      "<ipython-input-12-aa1c87db8777>:7: SettingWithCopyWarning: \n",
      "A value is trying to be set on a copy of a slice from a DataFrame\n",
      "\n",
      "See the caveats in the documentation: https://pandas.pydata.org/pandas-docs/stable/user_guide/indexing.html#returning-a-view-versus-a-copy\n",
      "  df['TrainingTimesLastYear'][index] = 1\n",
      "<ipython-input-12-aa1c87db8777>:5: SettingWithCopyWarning: \n",
      "A value is trying to be set on a copy of a slice from a DataFrame\n",
      "\n",
      "See the caveats in the documentation: https://pandas.pydata.org/pandas-docs/stable/user_guide/indexing.html#returning-a-view-versus-a-copy\n",
      "  df['TrainingTimesLastYear'][index] = 0\n"
     ]
    }
   ],
   "source": [
    "index_list = df['TrainingTimesLastYear'].index[df['TrainingTimesLastYear'].apply(np.isnan)]\n",
    "for index in index_list:\n",
    "        n = np.random.random()\n",
    "        if n < 0.0373:\n",
    "            df['TrainingTimesLastYear'][index] = 0\n",
    "        if (n>0.0373) and (n<0.087):\n",
    "            df['TrainingTimesLastYear'][index] = 1\n",
    "        if (n>0.087) and (n<0.454):\n",
    "            df['TrainingTimesLastYear'][index] = 2\n",
    "        if (n>0.454) and (n<0.786):\n",
    "            df['TrainingTimesLastYear'][index] = 3\n",
    "        if (n>0.786) and (n<0.866):\n",
    "            df['TrainingTimesLastYear'][index] = 4\n",
    "        if (n>0.866) and (n<0.956):\n",
    "            df['TrainingTimesLastYear'][index] = 5\n",
    "        if (n>0.956) and (n<1.):\n",
    "            df['TrainingTimesLastYear'][index] = 6"
   ]
  },
  {
   "cell_type": "markdown",
   "metadata": {},
   "source": [
    "**YearsAtCompany**"
   ]
  },
  {
   "cell_type": "code",
   "execution_count": null,
   "metadata": {},
   "outputs": [],
   "source": [
    "plt.hist(df['YearsAtCompany'], bins=8,edgecolor='k')\n",
    "plt.xticks(np.arange(0,45,5))\n",
    "data = df['YearsAtCompany'].fillna(200)\n",
    "bins = np.arange(0,45,5)\n",
    "histdata = np.histogram(data,bins)\n",
    "print(histdata)\n",
    "frequencies = histdata[0]/1396\n",
    "valore_medio = histdata[1] + 2.5\n",
    "print(frequencies, valore_medio)"
   ]
  },
  {
   "cell_type": "code",
   "execution_count": 13,
   "metadata": {},
   "outputs": [
    {
     "name": "stderr",
     "output_type": "stream",
     "text": [
      "<ipython-input-13-7708c96663c8>:5: SettingWithCopyWarning: \n",
      "A value is trying to be set on a copy of a slice from a DataFrame\n",
      "\n",
      "See the caveats in the documentation: https://pandas.pydata.org/pandas-docs/stable/user_guide/indexing.html#returning-a-view-versus-a-copy\n",
      "  df['YearsAtCompany'][index] = 2.5\n",
      "<ipython-input-13-7708c96663c8>:7: SettingWithCopyWarning: \n",
      "A value is trying to be set on a copy of a slice from a DataFrame\n",
      "\n",
      "See the caveats in the documentation: https://pandas.pydata.org/pandas-docs/stable/user_guide/indexing.html#returning-a-view-versus-a-copy\n",
      "  df['YearsAtCompany'][index] = 7.5\n",
      "<ipython-input-13-7708c96663c8>:13: SettingWithCopyWarning: \n",
      "A value is trying to be set on a copy of a slice from a DataFrame\n",
      "\n",
      "See the caveats in the documentation: https://pandas.pydata.org/pandas-docs/stable/user_guide/indexing.html#returning-a-view-versus-a-copy\n",
      "  df['YearsAtCompany'][index] = 22.5\n",
      "<ipython-input-13-7708c96663c8>:9: SettingWithCopyWarning: \n",
      "A value is trying to be set on a copy of a slice from a DataFrame\n",
      "\n",
      "See the caveats in the documentation: https://pandas.pydata.org/pandas-docs/stable/user_guide/indexing.html#returning-a-view-versus-a-copy\n",
      "  df['YearsAtCompany'][index] = 12.5\n",
      "<ipython-input-13-7708c96663c8>:15: SettingWithCopyWarning: \n",
      "A value is trying to be set on a copy of a slice from a DataFrame\n",
      "\n",
      "See the caveats in the documentation: https://pandas.pydata.org/pandas-docs/stable/user_guide/indexing.html#returning-a-view-versus-a-copy\n",
      "  df['YearsAtCompany'][index] = 27.5\n"
     ]
    }
   ],
   "source": [
    "index_list = df['YearsAtCompany'].index[df['YearsAtCompany'].apply(np.isnan)]\n",
    "for index in index_list:\n",
    "        n = np.random.random()\n",
    "        if n < 0.396:\n",
    "            df['YearsAtCompany'][index] = 2.5\n",
    "        if (n>0.396) and (n<0.753):\n",
    "            df['YearsAtCompany'][index] = 7.5\n",
    "        if (n>0.753) and (n<0.894):\n",
    "            df['YearsAtCompany'][index] = 12.5\n",
    "        if (n>0.894) and (n<0.938):\n",
    "            df['YearsAtCompany'][index] = 17.5\n",
    "        if (n>0.938) and (n<0.981):\n",
    "            df['YearsAtCompany'][index] = 22.5\n",
    "        if (n>0.981) and (n<0.987):\n",
    "            df['YearsAtCompany'][index] = 27.5\n",
    "        if (n>0.989) and (n<0.995):\n",
    "            df['YearsAtCompany'][index] = 32.5\n",
    "        if (n>0.995) and (n<1.):\n",
    "            df['YearsAtCompany'][index] = 37.5"
   ]
  },
  {
   "cell_type": "markdown",
   "metadata": {},
   "source": [
    "Creiamo un nuovo dataframe senza i missing values prima di gestire gli outliers"
   ]
  },
  {
   "cell_type": "code",
   "execution_count": 14,
   "metadata": {},
   "outputs": [],
   "source": [
    "df.to_csv('DataFrameWM.csv', index = False)"
   ]
  },
  {
   "cell_type": "markdown",
   "metadata": {
    "id": "-f9PbEOGBKsz"
   },
   "source": [
    "**Istogrammi**"
   ]
  },
  {
   "cell_type": "code",
   "execution_count": null,
   "metadata": {
    "id": "6PHizQSSBKDU"
   },
   "outputs": [],
   "source": [
    "plt.hist(df.values[:,32],bins = 5, edgecolor='k') #edge color,hist separati da linea NEGRA\n",
    "plt.xticks(np.arange(0,20.4, 3.4))\n",
    "plt.xlabel('Years With Curr Manager ')\n",
    "plt.ylabel('Number of employes')\n",
    "\n",
    "# handles=[Line2D([0],[0],marker='o',color='w',linestyle='',\n",
    "#                       markerfacecolor='w'),Line2D([0],[0],marker='o',color='w',\n",
    "#                       markerfacecolor='w'),Line2D([0],[0],marker='o',color='w',\n",
    "#                       markerfacecolor='w'),Line2D([0],[0],marker='o',color='w',\n",
    "#                       markerfacecolor='w')]\n",
    "\n",
    "# labels=['1 Low','2 Medium','3 High','4 Very high']\n",
    "# plt.legend(handles,labels, edgecolor='w', loc='upper left')\n",
    "\n",
    "#sub plot organizzati in matrici, una sola figura più plot\n",
    "# figure, axes = plt.subplots(4, 4)\n",
    "# # df['Age'].plot(ax=axes[0])\n",
    "# for i in range(0,4):\n",
    "#     for j in range(0,4):\n",
    "#         df['Age'].plot(ax=axes[i,j])\n",
    "\n",
    "#bins = np.arange(x0, x1 + 1.5) - 0.5 # per centrare i bin\n",
    "# plt.savefig(\"figure.png\") # save as png"
   ]
  },
  {
   "cell_type": "code",
   "execution_count": null,
   "metadata": {},
   "outputs": [],
   "source": [
    "# obs = np.array([ct.iloc[0][0:4].values, ct.iloc[1][0:4].values])\n",
    "# print(scipy.stats.chi2_contingency(obs)[0:3])\n",
    "\n",
    "# ct = pd.crosstab(df.JobSatisfaction,df.Attrition, margins=True)\n",
    "# obs = np.array([ct.iloc[0][0:4].values, ct.iloc[1][0:4].values])\n",
    "# print(scipy.stats.chi2_contingency(obs)[0:3]\n",
    "\n",
    "# for index, columns in categorical.iteritems():\n",
    "#     for index1, columns1 in categorical.iteritems():\n",
    "#         if index1 != index and 'Department' != 'EducationField':\n",
    "#             ct = pd.crosstab(categorical[index], categorical[index1], margins=True)\n",
    "#             obs = np.array([ct.iloc[0][0:4].values, ct.iloc[1][0:4].values])\n",
    "#             print(index, index1, 'p value is', scipy.stats.chi2_contingency(obs)[0:3][1])\n",
    "        \n",
    "# ct = pd.crosstab(categorical['Department'], categorical['EducationField'], margins=True)\n",
    "# obs = np.array([ct.iloc[0][0:5], ct.iloc[1][0:5].values])\n",
    "# print('Department', 'EducationField', 'p value is', scipy.stats.chi2_contingency(obs)[0:3][1])\n",
    "    "
   ]
  },
  {
   "cell_type": "code",
   "execution_count": null,
   "metadata": {},
   "outputs": [],
   "source": [
    "\n",
    "\n",
    "# ct = pd.crosstab(categorical.BusinessTravel, categorical.JobSatisfaction, margins=True)\n",
    "# row_sum = ct.iloc[0:3,4].values\n",
    "# print(row_sum)\n",
    "# exp = []\n",
    "# for j in range(3):\n",
    "#     for val in ct.iloc[3,0:4].values:\n",
    "#         exp.append(val * row_sum[j] / ct.loc['All', 'All'])\n",
    "# print(exp)\n",
    "# obs = []\n",
    "# for j in range(3):\n",
    "#     for val in ct.iloc[3,0:4].values:\n",
    "#         obs.append(val)\n",
    "\n",
    "# obs = np.array(obs)\n",
    "# exp = np.array(exp)\n",
    "# chisquare = np.sum((obs - exp)**2/exp)\n",
    "# print(chisquare)"
   ]
  },
  {
   "cell_type": "markdown",
   "metadata": {
    "id": "oYjRHp0zARVz"
   },
   "source": [
    "# Outliers"
   ]
  },
  {
   "cell_type": "markdown",
   "metadata": {
    "id": "FWNr2iPHACRi"
   },
   "source": [
    "Ricerca degli outliers col pacchetto importato sopra. **Utilizzazione del Grab Test**. Bisogna capire bene come scegliere il valore di alpha"
   ]
  },
  {
   "cell_type": "code",
   "execution_count": null,
   "metadata": {
    "id": "I9HdzTja_crv"
   },
   "outputs": [],
   "source": [
    "for index in df.select_dtypes('number'):\n",
    "    outremove = grubbs.max_test_indices(df.select_dtypes('number')[index], alpha=0.05)\n",
    "    outremove1 = grubbs.max_test_outliers(df.select_dtypes('number')[index], alpha=0.05)\n",
    "    #print(df.select_dtypes('number').shape, outremove.shape)\n",
    "    print(index,outremove, outremove1)"
   ]
  },
  {
   "cell_type": "markdown",
   "metadata": {
    "id": "I8l-UYfsATrR"
   },
   "source": [
    "**Ricerca delgi outliers con DBSCAN**"
   ]
  },
  {
   "cell_type": "code",
   "execution_count": null,
   "metadata": {
    "id": "XRhaeS4d_crx"
   },
   "outputs": [],
   "source": [
    "scaler = MinMaxScaler()\n",
    "X = scaler.fit_transform(numeric)\n",
    "dbscan = DBSCAN(eps=1.02, min_samples=5)\n",
    "dbscan.fit(X)\n",
    "print(np.unique(dbscan.labels_, return_counts=True))\n",
    "plt.scatter(numeric['Age'], numeric['YearsInCurrentRole'], c=dbscan.labels_)\n",
    "plt.show()\n",
    "\n",
    "dist = pdist(X, 'euclidean') #pair wise distance\n",
    "dist = squareform(dist) #distance matrix given the vector dist\n",
    "\n",
    "k = 5\n",
    "kth_distances = list()\n",
    "for d in dist:\n",
    "    index_kth_distance = np.argsort(d)[k]\n",
    "    kth_distances.append(d[index_kth_distance])\n",
    "\n",
    "plt.plot(range(0, len(kth_distances)), sorted(kth_distances))\n",
    "plt.ylabel('dist from %sth neighbor' %k)\n",
    "plt.xlabel('sorted distances')\n",
    "plt.show()"
   ]
  },
  {
   "cell_type": "markdown",
   "metadata": {
    "id": "n5z43C79_cr3"
   },
   "source": [
    "**Boxplot** \n",
    "Uno dei metodi che abbiamo per visualizzare i dati per singoli attributi ed identificare gli outliers"
   ]
  },
  {
   "cell_type": "code",
   "execution_count": null,
   "metadata": {
    "id": "FVRTy4fv_cr3"
   },
   "outputs": [],
   "source": [
    "for element in df.select_dtypes('number'):\n",
    "    plt.figure()\n",
    "    df.boxplot(element)"
   ]
  },
  {
   "cell_type": "markdown",
   "metadata": {},
   "source": [
    "**Principal Component Analysis**"
   ]
  },
  {
   "cell_type": "code",
   "execution_count": null,
   "metadata": {},
   "outputs": [],
   "source": [
    "color_list=['tab:blue', 'tab:orange', 'tab:green', 'tab:red', 'tab:purple', 'tab:brown', 'tab:pink', 'tab:gray', 'tab:olive', 'tab:cyan']\n",
    "for val in df.select_dtypes(exclude = 'number'):\n",
    "    fig=plt.figure()\n",
    "    ax=fig.add_subplot(111,projection='3d')\n",
    "    x0 = df.select_dtypes('number').values\n",
    "    x1 = StandardScaler().fit_transform(x0)\n",
    "    pca = PCA(n_components = 3)\n",
    "    principalComponents = pca.fit_transform(x1)\n",
    "    principalDf = pd.DataFrame(data = principalComponents, columns = ['principal component 1',\n",
    "                                                'principal component 2', 'principal component 3'])\n",
    "    finalDf = pd.concat([principalDf, df[[val]]], axis = 1)\n",
    "    targets = list(pd.unique(df[val]))\n",
    "    color = color_list[0:len(targets)]\n",
    "\n",
    "    for target, color in zip(targets,colors):\n",
    "        indicesToKeep = finalDf[val] == target\n",
    "        ax.scatter(finalDf.loc[indicesToKeep, 'principal component 1'],\n",
    "                    finalDf.loc[indicesToKeep, 'principal component 2'],\n",
    "                    finalDf.loc[indicesToKeep, 'principal component 3'],\n",
    "                    c = color, s=50)\n",
    "    plt.legend(targets)\n",
    "    print(pca.explained_variance_ratio_)"
   ]
  },
  {
   "cell_type": "markdown",
   "metadata": {},
   "source": [
    "Siccome la somma delle frazioni della varianza conservata per le prime 3 componenti principali non arriva nemmeno a 0.5 (circa 0.4), abbiamo concluso che tale approccio non è utilizzabile per il nostro dataframe"
   ]
  },
  {
   "cell_type": "markdown",
   "metadata": {
    "id": "OdOIqBaCAewC"
   },
   "source": [
    "# Viasulizzazione dei dati"
   ]
  },
  {
   "cell_type": "markdown",
   "metadata": {
    "id": "_lULnl3lAgis"
   },
   "source": [
    "**Scatter plot**"
   ]
  },
  {
   "cell_type": "code",
   "execution_count": null,
   "metadata": {
    "id": "GOYsuEo2_cr1"
   },
   "outputs": [],
   "source": [
    "for index_n, columns in numeric.iteritems():\n",
    "    if index_n !='Age':\n",
    "        for index, columns in categorical.iteritems():\n",
    "            for c in categorical[index].unique():\n",
    "                    dfc = df[df[index] == c]\n",
    "                    plt.scatter(dfc['Age'], dfc[index_n], label=c)\n",
    "            plt.legend(bbox_to_anchor=(1,1))\n",
    "            plt.xlabel('Age')\n",
    "            plt.title('Attribute: '+index)\n",
    "            plt.ylabel(index_n)\n",
    "            plt.show()\n",
    "for index, columns in categorical.iteritems():\n",
    "    for c in categorical[index].unique():\n",
    "        dfc = df[df[index] == c]\n",
    "        plt.scatter(dfc['YearsInCurrentRole'], dfc['YearsWithCurrManager'], label=c)\n",
    "    plt.legend(bbox_to_anchor=(1,1))\n",
    "    plt.show()"
   ]
  }
 ],
 "metadata": {
  "colab": {
   "collapsed_sections": [
    "xPre4_9kAYt1",
    "OdOIqBaCAewC"
   ],
   "name": "DataMiningProject.ipynb",
   "provenance": []
  },
  "kernelspec": {
   "display_name": "Python 3",
   "language": "python",
   "name": "python3"
  },
  "language_info": {
   "codemirror_mode": {
    "name": "ipython",
    "version": 3
   },
   "file_extension": ".py",
   "mimetype": "text/x-python",
   "name": "python",
   "nbconvert_exporter": "python",
   "pygments_lexer": "ipython3",
   "version": "3.8.3"
  }
 },
 "nbformat": 4,
 "nbformat_minor": 1
}
