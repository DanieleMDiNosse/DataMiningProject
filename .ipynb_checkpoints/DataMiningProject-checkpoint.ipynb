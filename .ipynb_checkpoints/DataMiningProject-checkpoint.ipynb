{
 "cells": [
  {
   "cell_type": "markdown",
   "metadata": {
    "id": "V7Lv-rze_crQ"
   },
   "source": [
    "# Data Mining Project"
   ]
  },
  {
   "cell_type": "markdown",
   "metadata": {
    "id": "dkbnyhyb_crW"
   },
   "source": [
    "Authors:\n",
    "    Di Nosse Daniele Maria,\n",
    "    Lasala Angelo,\n",
    "    Paradiso Raffaele"
   ]
  },
  {
   "cell_type": "markdown",
   "metadata": {
    "id": "CoYvjhkO_crX"
   },
   "source": [
    "!pip install outlier_utils"
   ]
  },
  {
   "cell_type": "code",
   "execution_count": null,
   "metadata": {
    "colab": {
     "base_uri": "https://localhost:8080/"
    },
    "id": "439hZvXg_nHY",
    "outputId": "1125cbb0-edb7-469a-822a-18fbd522d52d"
   },
   "outputs": [],
   "source": [
    "pip install outlier_utils"
   ]
  },
  {
   "cell_type": "markdown",
   "metadata": {
    "id": "cXC2yuJp_crX"
   },
   "source": [
    "Moduli da importare"
   ]
  },
  {
   "cell_type": "code",
   "execution_count": 1,
   "metadata": {
    "id": "efaYQIjd_crY"
   },
   "outputs": [],
   "source": [
    "%matplotlib inline\n",
    "import math\n",
    "import re # regular expression\n",
    "import numpy as np\n",
    "import pandas as pd\n",
    "import scipy\n",
    "from scipy.spatial.distance import pdist, squareform\n",
    "import matplotlib.pyplot as plt\n",
    "from matplotlib.lines import Line2D\n",
    "from outliers import smirnov_grubbs as grubbs\n",
    "from sklearn.decomposition import PCA\n",
    "from sklearn.preprocessing import StandardScaler, MinMaxScaler\n",
    "from sklearn.cluster import DBSCAN"
   ]
  },
  {
   "cell_type": "markdown",
   "metadata": {
    "id": "bkEuMvRzBPvv"
   },
   "source": [
    "# Operazioni base ed operazioni preliminari"
   ]
  },
  {
   "cell_type": "markdown",
   "metadata": {
    "id": "CScsN9w9_crc"
   },
   "source": [
    "Importare il DataFrame"
   ]
  },
  {
   "cell_type": "code",
   "execution_count": 2,
   "metadata": {
    "colab": {
     "base_uri": "https://localhost:8080/",
     "height": 369
    },
    "id": "AmeETD7n_crc",
    "outputId": "5a018c1d-f942-495a-b9ef-d59c063006ed"
   },
   "outputs": [
    {
     "data": {
      "text/html": [
       "<div>\n",
       "<style scoped>\n",
       "    .dataframe tbody tr th:only-of-type {\n",
       "        vertical-align: middle;\n",
       "    }\n",
       "\n",
       "    .dataframe tbody tr th {\n",
       "        vertical-align: top;\n",
       "    }\n",
       "\n",
       "    .dataframe thead th {\n",
       "        text-align: right;\n",
       "    }\n",
       "</style>\n",
       "<table border=\"1\" class=\"dataframe\">\n",
       "  <thead>\n",
       "    <tr style=\"text-align: right;\">\n",
       "      <th></th>\n",
       "      <th>Age</th>\n",
       "      <th>Attrition</th>\n",
       "      <th>BusinessTravel</th>\n",
       "      <th>DailyRate</th>\n",
       "      <th>Department</th>\n",
       "      <th>DistanceFromHome</th>\n",
       "      <th>Education</th>\n",
       "      <th>EducationField</th>\n",
       "      <th>EnvironmentSatisfaction</th>\n",
       "      <th>Gender</th>\n",
       "      <th>...</th>\n",
       "      <th>RelationshipSatisfaction</th>\n",
       "      <th>StandardHours</th>\n",
       "      <th>StockOptionLevel</th>\n",
       "      <th>TotalWorkingYears</th>\n",
       "      <th>TrainingTimesLastYear</th>\n",
       "      <th>WorkLifeBalance</th>\n",
       "      <th>YearsAtCompany</th>\n",
       "      <th>YearsInCurrentRole</th>\n",
       "      <th>YearsSinceLastPromotion</th>\n",
       "      <th>YearsWithCurrManager</th>\n",
       "    </tr>\n",
       "  </thead>\n",
       "  <tbody>\n",
       "    <tr>\n",
       "      <th>0</th>\n",
       "      <td>27.0</td>\n",
       "      <td>Yes</td>\n",
       "      <td>Travel_Frequently</td>\n",
       "      <td>763</td>\n",
       "      <td>Sales</td>\n",
       "      <td>15</td>\n",
       "      <td>2</td>\n",
       "      <td>Medical</td>\n",
       "      <td>1</td>\n",
       "      <td>Male</td>\n",
       "      <td>...</td>\n",
       "      <td>4</td>\n",
       "      <td>80.0</td>\n",
       "      <td>2</td>\n",
       "      <td>7</td>\n",
       "      <td>1.0</td>\n",
       "      <td>2</td>\n",
       "      <td>2.0</td>\n",
       "      <td>2</td>\n",
       "      <td>2</td>\n",
       "      <td>2</td>\n",
       "    </tr>\n",
       "    <tr>\n",
       "      <th>1</th>\n",
       "      <td>30.0</td>\n",
       "      <td>Yes</td>\n",
       "      <td>Travel_Rarely</td>\n",
       "      <td>1079</td>\n",
       "      <td>Sales</td>\n",
       "      <td>16</td>\n",
       "      <td>4</td>\n",
       "      <td>Marketing</td>\n",
       "      <td>1</td>\n",
       "      <td>Male</td>\n",
       "      <td>...</td>\n",
       "      <td>1</td>\n",
       "      <td>NaN</td>\n",
       "      <td>3</td>\n",
       "      <td>10</td>\n",
       "      <td>2.0</td>\n",
       "      <td>3</td>\n",
       "      <td>8.0</td>\n",
       "      <td>0</td>\n",
       "      <td>0</td>\n",
       "      <td>0</td>\n",
       "    </tr>\n",
       "    <tr>\n",
       "      <th>2</th>\n",
       "      <td>56.0</td>\n",
       "      <td>No</td>\n",
       "      <td>Non-Travel</td>\n",
       "      <td>150</td>\n",
       "      <td>Research &amp; Development</td>\n",
       "      <td>2</td>\n",
       "      <td>4</td>\n",
       "      <td>Technical Degree</td>\n",
       "      <td>4</td>\n",
       "      <td>Male</td>\n",
       "      <td>...</td>\n",
       "      <td>3</td>\n",
       "      <td>80.0</td>\n",
       "      <td>1</td>\n",
       "      <td>12</td>\n",
       "      <td>2.0</td>\n",
       "      <td>2</td>\n",
       "      <td>13.0</td>\n",
       "      <td>3</td>\n",
       "      <td>1</td>\n",
       "      <td>4</td>\n",
       "    </tr>\n",
       "    <tr>\n",
       "      <th>3</th>\n",
       "      <td>41.0</td>\n",
       "      <td>Yes</td>\n",
       "      <td>NaN</td>\n",
       "      <td>359</td>\n",
       "      <td>Human Resources</td>\n",
       "      <td>18</td>\n",
       "      <td>5</td>\n",
       "      <td>Human Resources</td>\n",
       "      <td>4</td>\n",
       "      <td>Male</td>\n",
       "      <td>...</td>\n",
       "      <td>3</td>\n",
       "      <td>80.0</td>\n",
       "      <td>0</td>\n",
       "      <td>2</td>\n",
       "      <td>4.0</td>\n",
       "      <td>3</td>\n",
       "      <td>3.0</td>\n",
       "      <td>0</td>\n",
       "      <td>0</td>\n",
       "      <td>0</td>\n",
       "    </tr>\n",
       "    <tr>\n",
       "      <th>4</th>\n",
       "      <td>42.0</td>\n",
       "      <td>No</td>\n",
       "      <td>NaN</td>\n",
       "      <td>642</td>\n",
       "      <td>Research &amp; Development</td>\n",
       "      <td>1</td>\n",
       "      <td>3</td>\n",
       "      <td>Life Sciences</td>\n",
       "      <td>4</td>\n",
       "      <td>Male</td>\n",
       "      <td>...</td>\n",
       "      <td>1</td>\n",
       "      <td>NaN</td>\n",
       "      <td>1</td>\n",
       "      <td>12</td>\n",
       "      <td>6.0</td>\n",
       "      <td>3</td>\n",
       "      <td>5.0</td>\n",
       "      <td>3</td>\n",
       "      <td>1</td>\n",
       "      <td>0</td>\n",
       "    </tr>\n",
       "  </tbody>\n",
       "</table>\n",
       "<p>5 rows × 33 columns</p>\n",
       "</div>"
      ],
      "text/plain": [
       "    Age Attrition     BusinessTravel  DailyRate              Department  \\\n",
       "0  27.0       Yes  Travel_Frequently        763                   Sales   \n",
       "1  30.0       Yes      Travel_Rarely       1079                   Sales   \n",
       "2  56.0        No         Non-Travel        150  Research & Development   \n",
       "3  41.0       Yes                NaN        359         Human Resources   \n",
       "4  42.0        No                NaN        642  Research & Development   \n",
       "\n",
       "   DistanceFromHome  Education    EducationField  EnvironmentSatisfaction  \\\n",
       "0                15          2           Medical                        1   \n",
       "1                16          4         Marketing                        1   \n",
       "2                 2          4  Technical Degree                        4   \n",
       "3                18          5   Human Resources                        4   \n",
       "4                 1          3     Life Sciences                        4   \n",
       "\n",
       "  Gender  ...  RelationshipSatisfaction  StandardHours  StockOptionLevel  \\\n",
       "0   Male  ...                         4           80.0                 2   \n",
       "1   Male  ...                         1            NaN                 3   \n",
       "2   Male  ...                         3           80.0                 1   \n",
       "3   Male  ...                         3           80.0                 0   \n",
       "4   Male  ...                         1            NaN                 1   \n",
       "\n",
       "  TotalWorkingYears  TrainingTimesLastYear WorkLifeBalance  YearsAtCompany  \\\n",
       "0                 7                    1.0               2             2.0   \n",
       "1                10                    2.0               3             8.0   \n",
       "2                12                    2.0               2            13.0   \n",
       "3                 2                    4.0               3             3.0   \n",
       "4                12                    6.0               3             5.0   \n",
       "\n",
       "   YearsInCurrentRole  YearsSinceLastPromotion YearsWithCurrManager  \n",
       "0                   2                        2                    2  \n",
       "1                   0                        0                    0  \n",
       "2                   3                        1                    4  \n",
       "3                   0                        0                    0  \n",
       "4                   3                        1                    0  \n",
       "\n",
       "[5 rows x 33 columns]"
      ]
     },
     "execution_count": 2,
     "metadata": {},
     "output_type": "execute_result"
    }
   ],
   "source": [
    "df = pd.read_csv('Train+Test.csv') #(delimiter='\\t')\n",
    "df.head()"
   ]
  },
  {
   "cell_type": "markdown",
   "metadata": {
    "id": "FdzTXUQS_crf"
   },
   "source": [
    "Operazioni base su DataFrame"
   ]
  },
  {
   "cell_type": "code",
   "execution_count": null,
   "metadata": {
    "id": "m6y5ECq__crf"
   },
   "outputs": [],
   "source": [
    "# print(df.head(3)) # Print prime 3 righe\n",
    "# print(df.tail(3)) # Print ultime 3 righe\n",
    "# print(df.columns) # Print attribute\n",
    "# print(df['Age'][0:5]) # Print una sola colonna e prime 5 righe\n",
    "# print(df[['Age', 'JobLevel']]) # Print più colonne\n",
    "# print(df.iloc[1:4]) # Stampa intere righe (ultima esclusa)\n",
    "# print(df.iloc[1,1]) # Stampa un elemento preciso in questo caso riga 1 colonna 1\n",
    "# print(df.loc[df['Attrition'] == 'Yes']) # Finding a specific value for the attribute in a dataset\n",
    "# print(df.loc[df['Attrition'].str.contains('Yes|no', flags=re.I, regex=True)])\n",
    "# print(df.dtypes) # Stampa il tipo degli attributi\n",
    "# print(df.shape) # Shape del DataFrame\n",
    "# print(df.sort_values(['Age', 'YearsWithCurrManager'], ascending=[1,0])) #sorted data (NaN in coda)\n",
    "# print(df.describe()) # print count,mean,std,min,25%,50%,75%,max\n",
    "# print(df.loc[~df['MaritalStatus'].str.contains('Single')]) # Drop tutte le righe con single in marital status\n",
    "# print(df['Age'].unique()) # valori non ripetuti attributo \"Age\"\n",
    "# print(df.groupby(['Age']).mean().sort_values('YearsWithCurrManager', ascending=False))# valori divisi in gruppi per età\n",
    "\n",
    "# df['T'] = df[''] + df[''] # Addizionare colonne\n",
    "# df['T'] = df.iloc[:, i:j].sum(axis=1) #axis=1 somma orizzontalmente, =0 verticalmente\n",
    "# df.to_csv = ('.csv', index=False)\n",
    "# df.to_excel = ('.xlsx', index=False)\n",
    "# df.to_csv = ('.txt', index=False, sep='\\t')\n",
    "\n",
    "#Stampa minimo e massimo dei valori nelle singole colonne e i loro range:\n",
    "# 1° modo\n",
    "# l = [0,3,5,6,8,10,11,12,14,16,17,18,21,22,23,24,25,26,27,28,29,30,31,32]\n",
    "# for i in range(len(l)):\n",
    "#    print(f' {l[i]} : min e max di {df.columns[l[i]]} sono {min(df.values[:,l[i]])} e\n",
    "#                     {max(df.values[:,l[i]])}. Range -->\n",
    "#                     {max(df.values[:,l[i]])-min(df.values[:,l[i]])}.')\n",
    "\n",
    "# 2° modo\n",
    "# print(df.min())\n",
    "# print(numeric.max() - numeric.min())\n",
    "# print((numeric.max() - numeric.min()).idxmax())\n",
    "# print(df[(numeric.max() - numeric.min()).idxmax()])\n",
    "\n",
    "# etamin = (df[(df['Age'] > 17) & (df['Age'] < 19)]) # Solo le righe con valori di età >17 & < 19\n",
    "# etamin = etamin.reset_index(drop=True) # Resetta indici\n",
    "\n",
    "#conoscere i valori max e min del guadagno mensile di gruppi organizzati per relazione coniugale\n",
    "# print(df.groupby(['MaritalStatus'], sort=False)['MonthlyIncome'].max())\n",
    "# print(df.groupby(['MaritalStatus'], sort=False)['MonthlyIncome'].min())"
   ]
  },
  {
   "cell_type": "markdown",
   "metadata": {
    "id": "GLJizUFF_crm"
   },
   "source": [
    "## Statistica"
   ]
  },
  {
   "cell_type": "code",
   "execution_count": 3,
   "metadata": {
    "id": "WlTNrCPC_crp"
   },
   "outputs": [],
   "source": [
    "df.replace({'EnvironmentSatisfaction':{1 : 'Low', 2 : 'Medium',\n",
    "                                       3 : 'High', 4 : 'Very High'}},inplace=True)\n",
    "df.replace({'JobInvolvement':{1 : 'Low', 2 : 'Medium',\n",
    "                              3 : 'High', 4 : 'Very High'}},inplace=True)\n",
    "df.replace({'JobSatisfaction':{1 : 'Low', 2 : 'Medium',\n",
    "                               3 : 'High', 4 : 'Very High'}},inplace=True)\n",
    "df.replace({'RelationshipSatisfaction':{1 : 'Low', 2 : 'Medium',\n",
    "                                        3 : 'High', 4 : 'Very High'}},inplace=True)\n",
    "df.replace({'Education':{1 : 'Below College', 2 : 'College',\n",
    "                         3 : 'Bachelor', 4 : 'Master', 5 : 'Doctor'}},inplace=True)\n",
    "df.replace({'WorkLifeBalance':{1 : 'Bad', 2 : 'Good',\n",
    "                               3 : 'Better', 4 : 'Best'}},inplace=True)\n",
    "df.replace({'PerformanceRating':{1 : 'Low', 2 : 'Good',\n",
    "                                 3 : 'Excellent', 4 : 'Outstanding'}},inplace=True)\n",
    "\n",
    "# # joblevel valori numerici ma chiaramente categorici,\n",
    "# non abbiamo ulteriori informazioni, chiediamo aiuto, per piacere rispondete. stop.\n",
    "# # totalworkingyear non ha molto senso a nostro avviso\n",
    "# cioè a 18 anni non puoi aver lavorato una media di 8 anni(QUALITÀ BASSA)\n",
    "\n",
    "df.replace({'JobLevel':{1 : '1', 2 : '2', 3 : '3', 4 : '4', 5 : '5'}},inplace=True)\n",
    "df.to_excel('nuovo.xlsx') # NUOVO DATA FRAME MODIFICATO\n",
    "\n",
    "categorical = df.select_dtypes(exclude = 'number') # SELEZIONA SOLO LE COLONNE CATEGORICHE\n",
    "numeric = df.select_dtypes('number') # SELEZIONA SOLO LE COLONNE NUMERICHE\n",
    "# print(categorical.iloc[0]) # PRINT DELLA PRIMA RIGA DI CATEGORICAL"
   ]
  },
  {
   "cell_type": "markdown",
   "metadata": {},
   "source": [
    "# Missing Values"
   ]
  },
  {
   "cell_type": "markdown",
   "metadata": {},
   "source": [
    "Nell'attributo Business Travel c'è una frequenza di NaN pari al circa 9%. Siccome la granulosità dell'attributo ricopre in maniera completa lo spettro delle classi plausibilmente attribuibili a tale attributo abbiamo deciso di valutare se ci fosse correlazione con gli altri attributi presenti nel data frame. Per quanto riguarda quelli numerici, abbiamo utilizzato gli scatter plot, mentre per quelli nominali abbiamo eseguito il test di indipendenza del chi quadro. In entrambi i casi non si evincono correlazioni significative (p value > 0.05 sempre). Di conseguenza DROP THE COLUMN"
   ]
  },
  {
   "cell_type": "code",
   "execution_count": null,
   "metadata": {},
   "outputs": [],
   "source": [
    "print(categorical.isnull().sum())\n",
    "print(numeric.isnull().sum())"
   ]
  },
  {
   "cell_type": "code",
   "execution_count": null,
   "metadata": {},
   "outputs": [],
   "source": [
    "for index, columns in categorical.iteritems():\n",
    "    if index != 'BusinessTravel':\n",
    "        ct = pd.crosstab(categorical['BusinessTravel'], categorical[index], margins=True)\n",
    "        obs = np.array([ct.iloc[0][0:4].values, ct.iloc[1][0:4].values])\n",
    "        print('BusinessTravel', index, 'p value is', scipy.stats.chi2_contingency(obs)[0:3][1])\n"
   ]
  },
  {
   "cell_type": "code",
   "execution_count": 4,
   "metadata": {
    "id": "3aD-tsR4_crn"
   },
   "outputs": [],
   "source": [
    "###########statistica = df.describe()\n",
    "#############statistica.to_excel('statistica.xlsx') #esporta la tabella in excel\n",
    "df = df.drop(columns=['StandardHours']) # Rimuovere colonne\n",
    "df = df.drop(columns=['Over18'])\n",
    "df = df.drop(columns=['BusinessTravel'])\n",
    "############p = df['TrainingTimesLastYear'].value_counts(normalize=True) * 100 # percentntuale degli attributi categorici\n"
   ]
  },
  {
   "cell_type": "markdown",
   "metadata": {},
   "source": [
    "Gestiamo i restanti missing values per gli attributi categorici: Gender e PerformanceRating.\n",
    "\n",
    "Per quanto riguarda PerformanceRating, aggiungiamo una nuova classe 'MISSING', poiché abbiamo notato che la granulosità dell'attributo non ricopre tutto lo spettro plausibile. I valori di MISSING presupponiamo possano appartenere ad una classe di ordine inferiore a Excellent"
   ]
  },
  {
   "cell_type": "code",
   "execution_count": 24,
   "metadata": {},
   "outputs": [
    {
     "name": "stdout",
     "output_type": "stream",
     "text": [
      "0         Excellent\n",
      "1       Outstanding\n",
      "2       Outstanding\n",
      "3         Excellent\n",
      "4       Outstanding\n",
      "           ...     \n",
      "1465      Excellent\n",
      "1466      Excellent\n",
      "1467        peppino\n",
      "1468      Excellent\n",
      "1469            NaN\n",
      "Name: PerformanceRating, Length: 1470, dtype: object\n"
     ]
    }
   ],
   "source": [
    "for index in df['PerformanceRating']:\n",
    "    if index != 'Low' or index !='Good' or index !='Excellent' or index !='Outstanding':\n",
    "        df['PerformanceRating'][index] = 'MISSING'\n",
    "print(df['PerformanceRating'])\n",
    "    \n",
    "    \n"
   ]
  },
  {
   "cell_type": "code",
   "execution_count": 17,
   "metadata": {},
   "outputs": [
    {
     "data": {
      "text/plain": [
       "Age                         212\n",
       "Attrition                     0\n",
       "DailyRate                     0\n",
       "Department                    0\n",
       "DistanceFromHome              0\n",
       "Education                     0\n",
       "EducationField                0\n",
       "EnvironmentSatisfaction       0\n",
       "Gender                       75\n",
       "HourlyRate                    0\n",
       "JobInvolvement                0\n",
       "JobLevel                      0\n",
       "JobRole                       0\n",
       "JobSatisfaction               0\n",
       "MaritalStatus                 0\n",
       "MonthlyIncome               280\n",
       "MonthlyRate                   0\n",
       "NumCompaniesWorked            0\n",
       "OverTime                      0\n",
       "PercentSalaryHike             0\n",
       "PerformanceRating           171\n",
       "RelationshipSatisfaction      0\n",
       "StockOptionLevel              0\n",
       "TotalWorkingYears             0\n",
       "TrainingTimesLastYear       292\n",
       "WorkLifeBalance               0\n",
       "YearsAtCompany               74\n",
       "YearsInCurrentRole            0\n",
       "YearsSinceLastPromotion       0\n",
       "YearsWithCurrManager          0\n",
       "dtype: int64"
      ]
     },
     "execution_count": 17,
     "metadata": {},
     "output_type": "execute_result"
    }
   ],
   "source": [
    "df.isnull().sum()"
   ]
  },
  {
   "cell_type": "raw",
   "metadata": {
    "id": "-f9PbEOGBKsz"
   },
   "source": [
    "Istogrammi"
   ]
  },
  {
   "cell_type": "code",
   "execution_count": null,
   "metadata": {
    "id": "6PHizQSSBKDU"
   },
   "outputs": [],
   "source": [
    "plt.hist(df.values[:,32],bins = 5, edgecolor='k') #edge color,hist separati da linea NEGRA\n",
    "plt.xticks(np.arange(0,20.4, 3.4))\n",
    "plt.xlabel('Years With Curr Manager ')\n",
    "plt.ylabel('Number of employes')\n",
    "\n",
    "# handles=[Line2D([0],[0],marker='o',color='w',linestyle='',\n",
    "#                       markerfacecolor='w'),Line2D([0],[0],marker='o',color='w',\n",
    "#                       markerfacecolor='w'),Line2D([0],[0],marker='o',color='w',\n",
    "#                       markerfacecolor='w'),Line2D([0],[0],marker='o',color='w',\n",
    "#                       markerfacecolor='w')]\n",
    "\n",
    "# labels=['1 Low','2 Medium','3 High','4 Very high']\n",
    "# plt.legend(handles,labels, edgecolor='w', loc='upper left')\n",
    "\n",
    "#sub plot organizzati in matrici, una sola figura più plot\n",
    "# figure, axes = plt.subplots(4, 4)\n",
    "# # df['Age'].plot(ax=axes[0])\n",
    "# for i in range(0,4):\n",
    "#     for j in range(0,4):\n",
    "#         df['Age'].plot(ax=axes[i,j])\n",
    "\n",
    "#bins = np.arange(x0, x1 + 1.5) - 0.5 # per centrare i bin\n",
    "# plt.savefig(\"figure.png\") # save as png"
   ]
  },
  {
   "cell_type": "markdown",
   "metadata": {
    "id": "VWgafCGz_crp"
   },
   "source": [
    "Trasformazione dei dati numerici in categorici (per quelli che lo prevedono)"
   ]
  },
  {
   "cell_type": "code",
   "execution_count": null,
   "metadata": {},
   "outputs": [],
   "source": [
    "pd.crosstab(df.Attrition, df.JobSatisfaction, margins=True)"
   ]
  },
  {
   "cell_type": "code",
   "execution_count": null,
   "metadata": {},
   "outputs": [],
   "source": [
    "ct = pd.crosstab(df.Attrition, df.JobSatisfaction, margins=True)\n",
    "\n",
    "print(ct,ct1)\n",
    "# obs = np.array([ct.iloc[0][0:4].values, ct.iloc[1][0:4].values])\n",
    "# print(scipy.stats.chi2_contingency(obs)[0:3])\n",
    "\n",
    "# ct = pd.crosstab(df.JobSatisfaction,df.Attrition, margins=True)\n",
    "# obs = np.array([ct.iloc[0][0:4].values, ct.iloc[1][0:4].values])\n",
    "# print(scipy.stats.chi2_contingency(obs)[0:3]\n",
    "\n",
    "# for index, columns in categorical.iteritems():\n",
    "#     for index1, columns1 in categorical.iteritems():\n",
    "#         if index1 != index and 'Department' != 'EducationField':\n",
    "#             ct = pd.crosstab(categorical[index], categorical[index1], margins=True)\n",
    "#             obs = np.array([ct.iloc[0][0:4].values, ct.iloc[1][0:4].values])\n",
    "#             print(index, index1, 'p value is', scipy.stats.chi2_contingency(obs)[0:3][1])\n",
    "        \n",
    "# ct = pd.crosstab(categorical['Department'], categorical['EducationField'], margins=True)\n",
    "# obs = np.array([ct.iloc[0][0:5], ct.iloc[1][0:5].values])\n",
    "# print('Department', 'EducationField', 'p value is', scipy.stats.chi2_contingency(obs)[0:3][1])\n",
    "    "
   ]
  },
  {
   "cell_type": "code",
   "execution_count": null,
   "metadata": {},
   "outputs": [],
   "source": [
    "\n",
    "\n",
    "# ct = pd.crosstab(categorical.BusinessTravel, categorical.JobSatisfaction, margins=True)\n",
    "# row_sum = ct.iloc[0:3,4].values\n",
    "# print(row_sum)\n",
    "# exp = []\n",
    "# for j in range(3):\n",
    "#     for val in ct.iloc[3,0:4].values:\n",
    "#         exp.append(val * row_sum[j] / ct.loc['All', 'All'])\n",
    "# print(exp)\n",
    "# obs = []\n",
    "# for j in range(3):\n",
    "#     for val in ct.iloc[3,0:4].values:\n",
    "#         obs.append(val)\n",
    "\n",
    "# obs = np.array(obs)\n",
    "# exp = np.array(exp)\n",
    "# chisquare = np.sum((obs - exp)**2/exp)\n",
    "# print(chisquare)"
   ]
  },
  {
   "cell_type": "markdown",
   "metadata": {
    "id": "tbtixX_dBx2J"
   },
   "source": [
    "# Missing Values"
   ]
  },
  {
   "cell_type": "markdown",
   "metadata": {
    "id": "pgqMfwesB1kc"
   },
   "source": [
    "Nuovo dataframe categorico avendo sostituito i valori NaN con MISSING. Infatti, non è stato nemmeno possibile sostituire i valori assenti con la classe relativa alla frequenza maggiormente presente poiché la frequenza dei NaN è comparabile con la frequenza degli attributi."
   ]
  },
  {
   "cell_type": "code",
   "execution_count": null,
   "metadata": {
    "id": "XKW3Xrd1B2PG"
   },
   "outputs": [],
   "source": [
    "categorical = categorical.fillna('MISSING')"
   ]
  },
  {
   "cell_type": "markdown",
   "metadata": {
    "id": "oYjRHp0zARVz"
   },
   "source": [
    "# Outliers"
   ]
  },
  {
   "cell_type": "markdown",
   "metadata": {
    "id": "FWNr2iPHACRi"
   },
   "source": [
    "Ricerca degli outliers col pacchetto importato sopra. Utilizzazione del Grab Test. Bisogna capire bene come scegliere il valore di alpha"
   ]
  },
  {
   "cell_type": "code",
   "execution_count": null,
   "metadata": {
    "id": "I9HdzTja_crv"
   },
   "outputs": [],
   "source": [
    "# for index, columns in numeric.iteritems():\n",
    "#     outremove = grubbs.test(numeric[index], alpha=0.05)\n",
    "#     print(numeric.shape, outremove.shape)"
   ]
  },
  {
   "cell_type": "markdown",
   "metadata": {
    "id": "I8l-UYfsATrR"
   },
   "source": [
    "Ricerca delgi outliers con DBSCAN"
   ]
  },
  {
   "cell_type": "code",
   "execution_count": null,
   "metadata": {
    "id": "XRhaeS4d_crx"
   },
   "outputs": [],
   "source": [
    "scaler = MinMaxScaler()\n",
    "X = scaler.fit_transform(numeric)\n",
    "dbscan = DBSCAN(eps=1.02, min_samples=5)\n",
    "dbscan.fit(X)\n",
    "print(np.unique(dbscan.labels_, return_counts=True))\n",
    "plt.scatter(numeric['Age'], numeric['YearsInCurrentRole'], c=dbscan.labels_)\n",
    "plt.show()\n",
    "\n",
    "dist = pdist(X, 'euclidean') #pair wise distance\n",
    "dist = squareform(dist) #distance matrix given the vector dist\n",
    "\n",
    "k = 5\n",
    "kth_distances = list()\n",
    "for d in dist:\n",
    "    index_kth_distance = np.argsort(d)[k]\n",
    "    kth_distances.append(d[index_kth_distance])\n",
    "\n",
    "plt.plot(range(0, len(kth_distances)), sorted(kth_distances))\n",
    "plt.ylabel('dist from %sth neighbor' %k)\n",
    "plt.xlabel('sorted distances')\n",
    "plt.show()"
   ]
  },
  {
   "cell_type": "markdown",
   "metadata": {
    "id": "xPre4_9kAYt1"
   },
   "source": [
    "#Correlazione"
   ]
  },
  {
   "cell_type": "code",
   "execution_count": null,
   "metadata": {
    "id": "yBClNTcg_crz"
   },
   "outputs": [],
   "source": [
    "#-----------------------------MATRICE CORRELLAZIONE-----------------------------\n",
    "corrmatrix = df.corr()\n",
    "print(corrmatrix)\n",
    "for index in range(len(corrmatrix.columns)): # Iteration for each columns\n",
    "    vecmax = corrmatrix.iloc[index]\n",
    "    vecmax2 = [i for i in vecmax if i < 1]\n",
    "    print(max(vecmax2))\n",
    "corrmatrix.to_excel('MatriceDiCorrelazione.xlsx') # ESPORTA MATRICE CORRELAZIONE\n",
    "pd.plotting.scatter_matrix(df.iloc[:,:], diagonal='kde') # PLOT MATRICE SCATTER\n",
    "plt.show()"
   ]
  },
  {
   "cell_type": "markdown",
   "metadata": {
    "id": "OdOIqBaCAewC"
   },
   "source": [
    "# Viasulizzazione dei dati"
   ]
  },
  {
   "cell_type": "markdown",
   "metadata": {
    "id": "_lULnl3lAgis"
   },
   "source": [
    "Scatter plot"
   ]
  },
  {
   "cell_type": "code",
   "execution_count": null,
   "metadata": {
    "id": "GOYsuEo2_cr1"
   },
   "outputs": [],
   "source": [
    "for index_n, columns in numeric.iteritems():\n",
    "    if index_n !='Age':\n",
    "        for index, columns in categorical.iteritems():\n",
    "            for c in categorical[index].unique():\n",
    "                    dfc = df[df[index] == c]\n",
    "                    plt.scatter(dfc['Age'], dfc[index_n], label=c)\n",
    "            plt.legend(bbox_to_anchor=(1,1))\n",
    "            plt.xlabel('Age')\n",
    "            plt.title('Attribute: '+index)\n",
    "            plt.ylabel(index_n)\n",
    "            plt.show()\n",
    "for index, columns in categorical.iteritems():\n",
    "    for c in categorical[index].unique():\n",
    "        dfc = df[df[index] == c]\n",
    "        plt.scatter(dfc['YearsInCurrentRole'], dfc['YearsWithCurrManager'], label=c)\n",
    "    plt.legend(bbox_to_anchor=(1,1))\n",
    "    plt.show()"
   ]
  },
  {
   "cell_type": "markdown",
   "metadata": {
    "id": "n5z43C79_cr3"
   },
   "source": [
    "\n",
    "Boxplot, ovvero uno dei metodi che abbiamo per visualizzare i dati per singoli attributi ed identificare gli outliers"
   ]
  },
  {
   "cell_type": "code",
   "execution_count": null,
   "metadata": {
    "id": "FVRTy4fv_cr3"
   },
   "outputs": [],
   "source": [
    "for element in numeric.columns:\n",
    "    plt.figure()\n",
    "    df.boxplot(element)"
   ]
  },
  {
   "cell_type": "markdown",
   "metadata": {
    "id": "KkT-Ra_wArEN"
   },
   "source": [
    "Principal Component Analysis.\n",
    "Siccome la somma delle frazioni della varianza conservata per le prime 3 componenti principali non arriva nemmeno a 0.5 (circa 0.4), abbiamo concluso che tale approccio non è utilizzabile per il nostro dataframe"
   ]
  },
  {
   "cell_type": "code",
   "execution_count": null,
   "metadata": {
    "id": "PwUITbe0_cr6"
   },
   "outputs": [],
   "source": [
    "fig=plt.figure()\n",
    "ax=fig.add_subplot(111,projection='3d')\n",
    "x0 = numeric.values\n",
    "x1 = StandardScaler().fit_transform(x0)\n",
    "pca = PCA(n_components = 3)\n",
    "principalComponents = pca.fit_transform(x1)\n",
    "principalDf = pd.DataFrame(data = principalComponents, columns = ['principal component 1',\n",
    "                                            'principal component 2', 'principal component 3'])\n",
    "finalDf = pd.concat([principalDf, df[['Attrition']]], axis = 1)\n",
    "targets = ['Yes', 'No']\n",
    "colors = ['r','b']\n",
    "for target, color in zip(targets,colors):\n",
    "    indicesToKeep = finalDf['Attrition'] == target\n",
    "    ax.scatter(finalDf.loc[indicesToKeep, 'principal component 1'],\n",
    "                finalDf.loc[indicesToKeep, 'principal component 2'],\n",
    "                finalDf.loc[indicesToKeep, 'principal component 3'],\n",
    "                c=color, s=50)\n",
    "plt.legend(targets)\n",
    "print(pca.explained_variance_ratio_)"
   ]
  },
  {
   "cell_type": "code",
   "execution_count": null,
   "metadata": {
    "id": "AklCipAU_cr9"
   },
   "outputs": [],
   "source": [
    "p = df['TrainingTimesLastYear'].value_counts(normalize=True) * 100 # percent. degli attributi categ."
   ]
  }
 ],
 "metadata": {
  "colab": {
   "collapsed_sections": [
    "xPre4_9kAYt1",
    "OdOIqBaCAewC"
   ],
   "name": "DataMiningProject.ipynb",
   "provenance": []
  },
  "kernelspec": {
   "display_name": "Python 3",
   "language": "python",
   "name": "python3"
  },
  "language_info": {
   "codemirror_mode": {
    "name": "ipython",
    "version": 3
   },
   "file_extension": ".py",
   "mimetype": "text/x-python",
   "name": "python",
   "nbconvert_exporter": "python",
   "pygments_lexer": "ipython3",
   "version": "3.8.3"
  }
 },
 "nbformat": 4,
 "nbformat_minor": 1
}
