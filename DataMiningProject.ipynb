{
 "cells": [
  {
   "cell_type": "markdown",
   "metadata": {},
   "source": [
    "# Data Mining Project"
   ]
  },
  {
   "cell_type": "markdown",
   "metadata": {},
   "source": [
    "Authors:\n",
    "    Di Nosse Daniele Maria,\n",
    "    Lasala Angelo,\n",
    "    Paradiso Raffaele"
   ]
  },
  {
   "cell_type": "markdown",
   "metadata": {},
   "source": [
    "!pip install outlier_utils"
   ]
  },
  {
   "cell_type": "markdown",
   "metadata": {},
   "source": [
    "Moduli da importare"
   ]
  },
  {
   "cell_type": "code",
   "execution_count": 1,
   "metadata": {},
   "outputs": [],
   "source": [
    "%matplotlib inline\n",
    "import math\n",
    "import re # regular expression\n",
    "import numpy as np\n",
    "import pandas as pd\n",
    "from scipy.spatial.distance import pdist, squareform\n",
    "import matplotlib.pyplot as plt\n",
    "from matplotlib.lines import Line2D\n",
    "from outliers import smirnov_grubbs as grubbs\n",
    "from sklearn.decomposition import PCA\n",
    "from sklearn.preprocessing import StandardScaler, MinMaxScaler\n",
    "from sklearn.cluster import DBSCAN"
   ]
  },
  {
   "cell_type": "markdown",
   "metadata": {},
   "source": [
    "Importare il DataFrame"
   ]
  },
  {
   "cell_type": "code",
   "execution_count": 2,
   "metadata": {},
   "outputs": [],
   "source": [
    "df = pd.read_csv('Test_HR_Employee_Attrition.csv') #(delimiter='\\t')"
   ]
  },
  {
   "cell_type": "markdown",
   "metadata": {},
   "source": [
    "Operazioni base su DataFrame"
   ]
  },
  {
   "cell_type": "code",
   "execution_count": null,
   "metadata": {},
   "outputs": [],
   "source": [
    "print(df.head(3)) # Print prime 3 righe\n",
    "print(df.tail(3)) # Print ultime 3 righe\n",
    "print(df.columns) # Print attribute\n",
    "print(df['Age'][0:5]) # Print una sola colonna e prime 5 righe\n",
    "print(df[['Age', 'JobLevel']]) # Print più colonne\n",
    "print(df.iloc[1:4]) # Stampa intere righe (ultima esclusa)\n",
    "print(df.iloc[1,1]) # Stampa un elemento preciso in questo caso riga 1 colonna 1\n",
    "print(df.loc[df['Attrition'] == 'Yes']) # Finding a specific value for the attribute in a dataset\n",
    "print(df.loc[df['Attrition'].str.contains('Yes|no', flags=re.I, regex=True)])\n",
    "print(df.dtypes) # Stampa il tipo degli attributi\n",
    "print(df.shape) # Shape del DataFrame\n",
    "print(df.sort_values(['Age', 'YearsWithCurrManager'], ascending=[1,0])) #sorted data (NaN in coda)\n",
    "print(df.describe()) # print count,mean,std,min,25%,50%,75%,max\n",
    "print(df.loc[~df['MaritalStatus'].str.contains('Single')]) # Drop tutte le righe con single in marital status\n",
    "print(df['Age'].unique()) # valori non ripetuti attributo \"Age\"\n",
    "print(df.groupby(['Age']).mean().sort_values('YearsWithCurrManager', ascending=False))# valori divisi in gruppi per età\n",
    "\n",
    "# df['T'] = df[''] + df[''] # Addizionare colonne\n",
    "# df['T'] = df.iloc[:, i:j].sum(axis=1) #axis=1 somma orizzontalmente, =0 verticalmente\n",
    "# df.to_csv = ('.csv', index=False)\n",
    "# df.to_excel = ('.xlsx', index=False)\n",
    "# df.to_csv = ('.txt', index=False, sep='\\t')\n",
    "\n",
    "#Stampa minimo e massimo dei valori nelle singole colonne e i loro range:\n",
    "# 1° modo\n",
    "# l = [0,3,5,6,8,10,11,12,14,16,17,18,21,22,23,24,25,26,27,28,29,30,31,32]\n",
    "# for i in range(len(l)):\n",
    "#    print(f' {l[i]} : min e max di {df.columns[l[i]]} sono {min(df.values[:,l[i]])} e\n",
    "#                     {max(df.values[:,l[i]])}. Range -->\n",
    "#                     {max(df.values[:,l[i]])-min(df.values[:,l[i]])}.')\n",
    "\n",
    "# 2° modo\n",
    "# print(df.min())\n",
    "# print(numeric.max() - numeric.min())\n",
    "# print((numeric.max() - numeric.min()).idxmax())\n",
    "# print(df[(numeric.max() - numeric.min()).idxmax()])\n",
    "\n",
    "# etamin = (df[(df['Age'] > 17) & (df['Age'] < 19)]) # Solo le righe con valori di età >17 & < 19\n",
    "# etamin = etamin.reset_index(drop=True) # Resetta indici\n",
    "\n",
    "#conoscere i valori max e min del guadagno mensile di gruppi organizzati per relazione coniugale\n",
    "# print(df.groupby(['MaritalStatus'], sort=False)['MonthlyIncome'].max())\n",
    "# print(df.groupby(['MaritalStatus'], sort=False)['MonthlyIncome'].min())"
   ]
  },
  {
   "cell_type": "markdown",
   "metadata": {},
   "source": [
    "# Istogrammi"
   ]
  },
  {
   "cell_type": "code",
   "execution_count": 3,
   "metadata": {},
   "outputs": [
    {
     "data": {
      "text/plain": [
       "Text(0, 0.5, 'Number of employes')"
      ]
     },
     "execution_count": 3,
     "metadata": {},
     "output_type": "execute_result"
    },
    {
     "data": {
      "image/png": "[encoded data removed]",
      "text/plain": [
       "<Figure size 432x288 with 1 Axes>"
      ]
     },
     "metadata": {
      "needs_background": "light"
     },
     "output_type": "display_data"
    }
   ],
   "source": [
    "plt.hist(df.values[:,32],bins = 5, edgecolor='k') #edge color,hist separati da linea NEGRA\n",
    "plt.xticks(np.arange(0,20.4, 3.4))\n",
    "plt.xlabel('Years With Curr Manager ')\n",
    "plt.ylabel('Number of employes')\n",
    "\n",
    "# handles=[Line2D([0],[0],marker='o',color='w',linestyle='',\n",
    "#                       markerfacecolor='w'),Line2D([0],[0],marker='o',color='w',\n",
    "#                       markerfacecolor='w'),Line2D([0],[0],marker='o',color='w',\n",
    "#                       markerfacecolor='w'),Line2D([0],[0],marker='o',color='w',\n",
    "#                       markerfacecolor='w')]\n",
    "\n",
    "# labels=['1 Low','2 Medium','3 High','4 Very high']\n",
    "# plt.legend(handles,labels, edgecolor='w', loc='upper left')\n",
    "\n",
    "#sub plot organizzati in matrici, una sola figura più plot\n",
    "# figure, axes = plt.subplots(4, 4)\n",
    "# # df['Age'].plot(ax=axes[0])\n",
    "# for i in range(0,4):\n",
    "#     for j in range(0,4):\n",
    "#         df['Age'].plot(ax=axes[i,j])\n",
    "\n",
    "#bins = np.arange(x0, x1 + 1.5) - 0.5 # per centrare i bin\n",
    "# plt.savefig(\"figure.png\") # save as png"
   ]
  },
  {
   "cell_type": "markdown",
   "metadata": {},
   "source": [
    "## Statistica"
   ]
  },
  {
   "cell_type": "code",
   "execution_count": 4,
   "metadata": {},
   "outputs": [],
   "source": [
    "statistica = df.describe()\n",
    "statistica.to_excel('statistica.xlsx') #esporta la tabella in excel\n",
    "df = df.drop(columns=['StandardHours']) # Rimuovere colonne\n",
    "df = df.drop(columns=['Over18'])"
   ]
  },
  {
   "cell_type": "markdown",
   "metadata": {},
   "source": [
    "TRASFORMAZIONE DEI DATI NUMERICI IN CATEGORICI(OVVIAMENTE PER QUELLI CHE LO PREVEDONO)"
   ]
  },
  {
   "cell_type": "code",
   "execution_count": 5,
   "metadata": {},
   "outputs": [],
   "source": [
    "df.replace({'EnvironmentSatisfaction':{1 : 'Low', 2 : 'Medium',\n",
    "                                       3 : 'High', 4 : 'Very High'}},inplace=True)\n",
    "df.replace({'JobInvolvement':{1 : 'Low', 2 : 'Medium',\n",
    "                              3 : 'High', 4 : 'Very High'}},inplace=True)\n",
    "df.replace({'JobSatisfaction':{1 : 'Low', 2 : 'Medium',\n",
    "                               3 : 'High', 4 : 'Very High'}},inplace=True)\n",
    "df.replace({'RelationshipSatisfaction':{1 : 'Low', 2 : 'Medium',\n",
    "                                        3 : 'High', 4 : 'Very High'}},inplace=True)\n",
    "df.replace({'Education':{1 : 'Below College', 2 : 'College',\n",
    "                         3 : 'Bachelor', 4 : 'Master', 5 : 'Doctor'}},inplace=True)\n",
    "df.replace({'WorkLifeBalance':{1 : 'Bad', 2 : 'Good',\n",
    "                               3 : 'Better', 4 : 'Best'}},inplace=True)\n",
    "df.replace({'PerformanceRating':{1 : 'Low', 2 : 'Good',\n",
    "                                 3 : 'Excellent', 4 : 'Outstanding'}},inplace=True)\n",
    "\n",
    "# # joblevel valori numerici ma chiaramente categorici,\n",
    "# non abbiamo ulteriori informazioni, chiediamo aiuto, per piacere rispondete. stop.\n",
    "# # totalworkingyear non ha molto senso a nostro avviso\n",
    "# cioè a 18 anni non puoi aver lavorato una media di 8 anni(QUALITÀ BASSA)\n",
    "\n",
    "df.replace({'JobLevel':{1 : '1', 2 : '2', 3 : '3', 4 : '4', 5 : '5'}},inplace=True)\n",
    "df.to_excel('nuovo.xlsx') # NUOVO DATA FRAME MODIFICATO\n",
    "\n",
    "categorical = df.select_dtypes(exclude='number') # SELEZIONA SOLO LE COLONNE CATEGORICHE\n",
    "numeric = df.select_dtypes('number') # SELEZIONA SOLO LE COLONNE NUMERICHE\n",
    "categorical = categorical.dropna()\n",
    "numeric = numeric.dropna()\n",
    "# print(categorical.iloc[0]) # PRINT DELLA PRIMA RIGA DI CATEGORICAL"
   ]
  },
  {
   "cell_type": "code",
   "execution_count": 6,
   "metadata": {},
   "outputs": [],
   "source": [
    "# NUOVO DATAFRAME SENZA MISSING (PER ORA SOLO NEGLI ATTRIBUTI CATEGORICI)\n",
    "categorical = categorical.fillna('MISSING')"
   ]
  },
  {
   "cell_type": "code",
   "execution_count": 7,
   "metadata": {},
   "outputs": [],
   "source": [
    "# RICERCA OUTLIERS NELLE COLONNE CON UN PACCHETTINO IMPORTATO SOPRA\n",
    "#  E ALPHA CHE NON SAPPIAMO COME SCEGLIERNE IL VALORE\n",
    "# for index, columns in numeric.iteritems():\n",
    "#     outremove = grubbs.test(numeric[index], alpha=0.05)\n",
    "#     print(numeric.shape, outremove.shape)"
   ]
  },
  {
   "cell_type": "code",
   "execution_count": 8,
   "metadata": {},
   "outputs": [
    {
     "name": "stdout",
     "output_type": "stream",
     "text": [
      "(array([-1,  0], dtype=int64), array([  8, 143], dtype=int64))\n"
     ]
    },
    {
     "data": {
      "image/png": "[encoded data removed]",
      "text/plain": [
       "<Figure size 432x288 with 1 Axes>"
      ]
     },
     "metadata": {
      "needs_background": "light"
     },
     "output_type": "display_data"
    },
    {
     "data": {
      "image/png": "[encoded data removed]",
      "text/plain": [
       "<Figure size 432x288 with 1 Axes>"
      ]
     },
     "metadata": {
      "needs_background": "light"
     },
     "output_type": "display_data"
    }
   ],
   "source": [
    "# RICERCA OUTLIERS NELLE COLONNE CON UN DBSCAN (NEL FARLO SI SONO ELIMINTATI I VALORI NaN)\n",
    "scaler = MinMaxScaler()\n",
    "X = scaler.fit_transform(numeric)\n",
    "dbscan = DBSCAN(eps=1.02, min_samples=5)\n",
    "dbscan.fit(X)\n",
    "print(np.unique(dbscan.labels_, return_counts=True))\n",
    "plt.scatter(numeric['Age'], numeric['YearsInCurrentRole'], c=dbscan.labels_)\n",
    "plt.show()\n",
    "\n",
    "dist = pdist(X, 'euclidean') #pair wise distance\n",
    "dist = squareform(dist) #distance matrix given the vector dist\n",
    "\n",
    "k = 5\n",
    "kth_distances = list()\n",
    "for d in dist:\n",
    "    index_kth_distance = np.argsort(d)[k]\n",
    "    kth_distances.append(d[index_kth_distance])\n",
    "\n",
    "plt.plot(range(0, len(kth_distances)), sorted(kth_distances))\n",
    "plt.ylabel('dist from %sth neighbor' %k)\n",
    "plt.xlabel('sorted distances')\n",
    "plt.show()"
   ]
  },
  {
   "cell_type": "code",
   "execution_count": null,
   "metadata": {},
   "outputs": [],
   "source": [
    "#-----------------------------MATRICE CORRELLAZIONE-----------------------------\n",
    "corrmatrix = df.corr()\n",
    "print(corrmatrix)\n",
    "for index in range(len(corrmatrix.columns)): # Iteration for each columns\n",
    "    vecmax = corrmatrix.iloc[index]\n",
    "    vecmax2 = [i for i in vecmax if i < 1]\n",
    "    print(max(vecmax2))\n",
    "corrmatrix.to_excel('MatriceDiCorrelazione.xlsx') # ESPORTA MATRICE CORRELAZIONE\n",
    "pd.plotting.scatter_matrix(df.iloc[:,:], diagonal='kde') # PLOT MATRICE SCATTER\n",
    "plt.show()"
   ]
  },
  {
   "cell_type": "code",
   "execution_count": null,
   "metadata": {},
   "outputs": [],
   "source": [
    "# SCATTER FOTTUTI PLOT (TUTTI)\n",
    "for index_n, columns in numeric.iteritems():\n",
    "    if index_n !='Age':\n",
    "        for index, columns in categorical.iteritems():\n",
    "            for c in categorical[index].unique():\n",
    "                    dfc = df[df[index] == c]\n",
    "                    plt.scatter(dfc['Age'], dfc[index_n], label=c)\n",
    "            plt.legend(bbox_to_anchor=(1,1))\n",
    "            plt.xlabel('Age')\n",
    "            plt.title('Attribute: '+index)\n",
    "            plt.ylabel(index_n)\n",
    "            plt.show()\n",
    "for index, columns in categorical.iteritems():\n",
    "    for c in categorical[index].unique():\n",
    "        dfc = df[df[index] == c]\n",
    "        plt.scatter(dfc['YearsInCurrentRole'], dfc['YearsWithCurrManager'], label=c)\n",
    "    plt.legend(bbox_to_anchor=(1,1))\n",
    "    plt.show()"
   ]
  },
  {
   "cell_type": "code",
   "execution_count": null,
   "metadata": {},
   "outputs": [],
   "source": [
    "# BOX PLOT\n",
    "for element in numeric.columns:\n",
    "    plt.figure()\n",
    "    df.boxplot(element)"
   ]
  },
  {
   "cell_type": "code",
   "execution_count": null,
   "metadata": {},
   "outputs": [],
   "source": [
    "# PRINCIPAL COMPONENT ANALYSIS\n",
    "fig=plt.figure()\n",
    "ax=fig.add_subplot(111,projection='3d')\n",
    "x0 = numeric.values\n",
    "x1 = StandardScaler().fit_transform(x0)\n",
    "pca = PCA(n_components = 3)\n",
    "principalComponents = pca.fit_transform(x1)\n",
    "principalDf = pd.DataFrame(data = principalComponents, columns = ['principal component 1',\n",
    "                                            'principal component 2', 'principal component 3'])\n",
    "finalDf = pd.concat([principalDf, df[['Attrition']]], axis = 1)\n",
    "targets = ['Yes', 'No']\n",
    "colors = ['r','b']\n",
    "for target, color in zip(targets,colors):\n",
    "    indicesToKeep = finalDf['Attrition'] == target\n",
    "    ax.scatter(finalDf.loc[indicesToKeep, 'principal component 1'],\n",
    "                finalDf.loc[indicesToKeep, 'principal component 2'],\n",
    "                finalDf.loc[indicesToKeep, 'principal component 3'],\n",
    "                c=color, s=50)\n",
    "plt.legend(targets)\n",
    "print(pca.explained_variance_ratio_)"
   ]
  },
  {
   "cell_type": "code",
   "execution_count": null,
   "metadata": {},
   "outputs": [],
   "source": [
    "p = df['TrainingTimesLastYear'].value_counts(normalize=True) * 100 # percent. degli attributi categ."
   ]
  }
 ],
 "metadata": {
  "kernelspec": {
   "display_name": "Python 3",
   "language": "python",
   "name": "python3"
  },
  "language_info": {
   "codemirror_mode": {
    "name": "ipython",
    "version": 3
   },
   "file_extension": ".py",
   "mimetype": "text/x-python",
   "name": "python",
   "nbconvert_exporter": "python",
   "pygments_lexer": "ipython3",
   "version": "3.8.5"
  }
 },
 "nbformat": 4,
 "nbformat_minor": 4
}
