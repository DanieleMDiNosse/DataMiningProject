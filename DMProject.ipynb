{
 "cells": [
  {
   "cell_type": "markdown",
   "metadata": {
    "id": "V7Lv-rze_crQ"
   },
   "source": [
    "# Data Mining Project"
   ]
  },
  {
   "cell_type": "markdown",
   "metadata": {
    "id": "dkbnyhyb_crW"
   },
   "source": [
    "Authors:\n",
    "    Di Nosse Daniele Maria,\n",
    "    Lasala Angelo,\n",
    "    Paradiso Raffaele"
   ]
  },
  {
   "cell_type": "code",
   "execution_count": null,
   "metadata": {
    "id": "efaYQIjd_crY"
   },
   "outputs": [],
   "source": [
    "%matplotlib inline\n",
    "import math\n",
    "import re # regular expression\n",
    "import numpy as np\n",
    "import pandas as pd\n",
    "import scipy\n",
    "from scipy.spatial.distance import pdist, squareform\n",
    "import matplotlib.pyplot as plt\n",
    "from matplotlib.lines import Line2D\n",
    "from sklearn.decomposition import PCA"
   ]
  },
  {
   "cell_type": "markdown",
   "metadata": {
    "id": "bkEuMvRzBPvv"
   },
   "source": [
    "# Operazioni base ed operazioni preliminari"
   ]
  },
  {
   "cell_type": "markdown",
   "metadata": {
    "id": "CScsN9w9_crc"
   },
   "source": [
    "Importare il DataFrame"
   ]
  },
  {
   "cell_type": "code",
   "execution_count": null,
   "metadata": {
    "colab": {
     "base_uri": "https://localhost:8080/",
     "height": 369
    },
    "id": "AmeETD7n_crc",
    "outputId": "5a018c1d-f942-495a-b9ef-d59c063006ed"
   },
   "outputs": [],
   "source": [
    "df = pd.read_csv('Train+Test.csv') #(delimiter='\\t')\n",
    "df.shape"
   ]
  },
  {
   "cell_type": "markdown",
   "metadata": {
    "id": "FdzTXUQS_crf"
   },
   "source": [
    "Operazioni base su DataFrame"
   ]
  },
  {
   "cell_type": "code",
   "execution_count": null,
   "metadata": {
    "id": "m6y5ECq__crf"
   },
   "outputs": [],
   "source": [
    "# print(df.head(3)) # Print prime 3 righe\n",
    "# print(df.tail(3)) # Print ultime 3 righe\n",
    "# print(df.columns) # Print attribute\n",
    "# print(df['Age'][0:5]) # Print una sola colonna e prime 5 righe\n",
    "# print(df[['Age', 'JobLevel']]) # Print più colonne\n",
    "# print(df.iloc[1:4]) # Stampa intere righe (ultima esclusa)\n",
    "# print(df.iloc[1,1]) # Stampa un elemento preciso in questo caso riga 1 colonna 1\n",
    "# print(df.loc[df['Attrition'] == 'Yes']) # Finding a specific value for the attribute in a dataset\n",
    "# print(df.loc[df['Attrition'].str.contains('Yes|no', flags=re.I, regex=True)])\n",
    "# print(df.dtypes) # Stampa il tipo degli attributi\n",
    "# print(df.shape) # Shape del DataFrame\n",
    "# print(df.sort_values(['Age', 'YearsWithCurrManager'], ascending=[1,0])) #sorted data (NaN in coda)\n",
    "# print(df.describe()) # print count,mean,std,min,25%,50%,75%,max\n",
    "# print(df.loc[~df['MaritalStatus'].str.contains('Single')]) # Drop tutte le righe con single in marital status\n",
    "# print(df['Age'].unique()) # valori non ripetuti attributo \"Age\"\n",
    "# print(df.groupby(['Age']).mean().sort_values('YearsWithCurrManager', ascending=False))# valori divisi in gruppi per età\n",
    "\n",
    "# df['T'] = df[''] + df[''] # Addizionare colonne\n",
    "# df['T'] = df.iloc[:, i:j].sum(axis=1) #axis=1 somma orizzontalmente, =0 verticalmente\n",
    "# df.to_csv = ('.csv', index=False)\n",
    "# df.to_excel = ('.xlsx', index=False)\n",
    "# df.to_csv = ('.txt', index=False, sep='\\t')\n",
    "\n",
    "#Stampa minimo e massimo dei valori nelle singole colonne e i loro range:\n",
    "# 1° modo\n",
    "# l = [0,3,5,6,8,10,11,12,14,16,17,18,21,22,23,24,25,26,27,28,29,30,31,32]\n",
    "# for i in range(len(l)):\n",
    "#    print(f' {l[i]} : min e max di {df.columns[l[i]]} sono {min(df.values[:,l[i]])} e\n",
    "#                     {max(df.values[:,l[i]])}. Range -->\n",
    "#                     {max(df.values[:,l[i]])-min(df.values[:,l[i]])}.')\n",
    "\n",
    "# 2° modo\n",
    "# print(df.min())\n",
    "# print(numeric.max() - numeric.min())\n",
    "# print((numeric.max() - numeric.min()).idxmax())\n",
    "# print(df[(numeric.max() - numeric.min()).idxmax()])\n",
    "\n",
    "# etamin = (df[(df['Age'] > 18) & (df['Age'] < 24)]) # Solo le righe con valori di età >17 & < 19\n",
    "# etamin = etamin.reset_index(drop=True) # Resetta indici\n",
    "\n",
    "#conoscere i valori max e min del guadagno mensile di gruppi organizzati per relazione coniugale\n",
    "# print(df.groupby(['MaritalStatus'], sort=False)['MonthlyIncome'].max())\n",
    "# print(df.groupby(['MaritalStatus'], sort=False)['MonthlyIncome'].min())"
   ]
  },
  {
   "cell_type": "markdown",
   "metadata": {
    "id": "GLJizUFF_crm"
   },
   "source": [
    "## Statistica"
   ]
  },
  {
   "cell_type": "code",
   "execution_count": null,
   "metadata": {
    "id": "WlTNrCPC_crp"
   },
   "outputs": [],
   "source": [
    "df.replace({'EnvironmentSatisfaction':{1 : 'Low', 2 : 'Medium',\n",
    "                                       3 : 'High', 4 : 'Very High'}},inplace=True)\n",
    "df.replace({'JobInvolvement':{1 : 'Low', 2 : 'Medium',\n",
    "                              3 : 'High', 4 : 'Very High'}},inplace=True)\n",
    "df.replace({'JobSatisfaction':{1 : 'Low', 2 : 'Medium',\n",
    "                               3 : 'High', 4 : 'Very High'}},inplace=True)\n",
    "df.replace({'RelationshipSatisfaction':{1 : 'Low', 2 : 'Medium',\n",
    "                                        3 : 'High', 4 : 'Very High'}},inplace=True)\n",
    "df.replace({'Education':{1 : 'Below College', 2 : 'College',\n",
    "                         3 : 'Bachelor', 4 : 'Master', 5 : 'Doctor'}},inplace=True)\n",
    "df.replace({'WorkLifeBalance':{1 : 'Bad', 2 : 'Good',\n",
    "                               3 : 'Better', 4 : 'Best'}},inplace=True)\n",
    "df.replace({'PerformanceRating':{1 : 'Low', 2 : 'Good',\n",
    "                                 3 : 'Excellent', 4 : 'Outstanding'}},inplace=True)\n",
    "df.replace({'JobLevel':{1 : '1', 2 : '2', 3 : '3', 4 : '4', 5 : '5'}},inplace=True)\n",
    "\n",
    "# df.to_excel('NewDataFrame.xlsx') # NUOVO DATA FRAME MODIFICATO\n"
   ]
  },
  {
   "cell_type": "markdown",
   "metadata": {},
   "source": [
    "**JobLevel** --> valori numerici ma chiaramente categorici,\n",
    "non abbiamo ulteriori informazioni, chiediamo aiuto, per piacere rispondete. stop.\n",
    "**TotalWorkingYear** --> non ha molto senso a nostro avviso\n",
    "cioè a 18 anni non puoi aver lavorato una media di 8 anni(QUALITÀ BASSA)"
   ]
  },
  {
   "cell_type": "code",
   "execution_count": null,
   "metadata": {
    "id": "WlTNrCPC_crp"
   },
   "outputs": [],
   "source": [
    "# p = df['TrainingTimesLastYear'].value_counts(normalize=True) * 100 # percent. degli attributi categ.\n",
    "\n",
    "\n",
    "# categorical = df.select_dtypes(exclude = 'number') # SELEZIONA SOLO LE COLONNE CATEGORICHE\n",
    "# numeric = df.select_dtypes('number') # SELEZIONA SOLO LE COLONNE NUMERICHE\n",
    "# print(categorical.iloc[0]) # PRINT DELLA PRIMA RIGA DI CATEGORICAL"
   ]
  },
  {
   "cell_type": "markdown",
   "metadata": {},
   "source": [
    "**Matrice di Correlazione**"
   ]
  },
  {
   "cell_type": "code",
   "execution_count": null,
   "metadata": {},
   "outputs": [],
   "source": [
    "# corrmatrix = df.corr()\n",
    "# print(corrmatrix)\n",
    "# for index in range(len(corrmatrix.columns)): # Iteration for each columns\n",
    "#     vecmax = corrmatrix.iloc[index]\n",
    "#     vecmax2 = [i for i in vecmax if i < 1]\n",
    "#     print(max(vecmax2))\n",
    "# corrmatrix.to_excel('MatriceDiCorrelazione.xlsx') # ESPORTA MATRICE CORRELAZIONE\n",
    "# pd.plotting.scatter_matrix(df.iloc[:,:], diagonal='kde') # PLOT MATRICE SCATTER\n",
    "# plt.show()"
   ]
  },
  {
   "cell_type": "markdown",
   "metadata": {},
   "source": [
    "# Missing Values"
   ]
  },
  {
   "cell_type": "markdown",
   "metadata": {},
   "source": [
    "**ATTRIBUTI CATEGORICI**"
   ]
  },
  {
   "cell_type": "markdown",
   "metadata": {},
   "source": [
    "Nell'attributo Business Travel c'è una frequenza di NaN pari al circa 9%. Siccome la granulosità dell'attributo ricopre in maniera completa lo spettro delle classi plausibilmente attribuibili a tale attributo abbiamo deciso di valutare se ci fosse correlazione con gli altri attributi presenti nel data frame. Per quanto riguarda quelli numerici, abbiamo utilizzato gli scatter plot, mentre per quelli nominali abbiamo eseguito il test di indipendenza del chi quadro. In entrambi i casi non si evincono correlazioni significative (p value > 0.05 sempre). Di conseguenza DROP THE COLUMN"
   ]
  },
  {
   "cell_type": "code",
   "execution_count": null,
   "metadata": {},
   "outputs": [],
   "source": [
    "print(categorical.isnull().sum())"
   ]
  },
  {
   "cell_type": "code",
   "execution_count": null,
   "metadata": {},
   "outputs": [],
   "source": [
    "for index, columns in categorical.iteritems():\n",
    "    if index != 'BusinessTravel':\n",
    "        ct = pd.crosstab(categorical['BusinessTravel'], categorical[index], margins=True)\n",
    "        obs = np.array([ct.iloc[0][0:4].values, ct.iloc[1][0:4].values])\n",
    "        print('BusinessTravel', index, 'p value is', scipy.stats.chi2_contingency(obs)[0:3][1])\n"
   ]
  },
  {
   "cell_type": "code",
   "execution_count": null,
   "metadata": {
    "id": "3aD-tsR4_crn"
   },
   "outputs": [],
   "source": [
    "###########statistica = df.describe()\n",
    "#############statistica.to_excel('statistica.xlsx') #esporta la tabella in excel\n",
    "df = df.drop(columns=['StandardHours']) # Rimuovere colonne\n",
    "df = df.drop(columns=['Over18'])\n",
    "df = df.drop(columns=['BusinessTravel'])\n",
    "############p = df['TrainingTimesLastYear'].value_counts(normalize=True) * 100 # percentntuale degli attributi categorici\n"
   ]
  },
  {
   "cell_type": "markdown",
   "metadata": {},
   "source": [
    "Gestiamo i restanti missing values per gli attributi categorici: Gender e PerformanceRating.\n",
    "\n",
    "Per quanto riguarda PerformanceRating, aggiungiamo una nuova classe 'MISSING', poiché abbiamo notato che la granulosità dell'attributo non ricopre tutto lo spettro plausibile. I valori di MISSING presupponiamo possano appartenere ad una classe di ordine inferiore a Excellent"
   ]
  },
  {
   "cell_type": "code",
   "execution_count": null,
   "metadata": {},
   "outputs": [],
   "source": [
    "for index in range(len(df['PerformanceRating'])):\n",
    "    if type(df['PerformanceRating'][index]) != type('peppino'):\n",
    "        df['PerformanceRating'][index] = 'MISSING'\n",
    "print(df['PerformanceRating'])\n",
    "    \n"
   ]
  },
  {
   "cell_type": "code",
   "execution_count": null,
   "metadata": {},
   "outputs": [],
   "source": [
    "for index in range(len(df['Gender'])):\n",
    "    if type(df['Gender'][index]) != type('peppino'):\n",
    "        n = np.random.random()\n",
    "        if n < 0.5721:\n",
    "            df['Gender'][index] = 'Male'\n",
    "        else:\n",
    "            df['Gender'][index] = 'Female'\n",
    "        \n",
    "print(df['Gender']) \n",
    "df['Gender'].value_counts(normalize=True) * 100\n"
   ]
  },
  {
   "cell_type": "markdown",
   "metadata": {},
   "source": [
    "**ATTRIBUTI NUMERICI**"
   ]
  },
  {
   "cell_type": "code",
   "execution_count": null,
   "metadata": {},
   "outputs": [],
   "source": [
    "print(df.isnull().sum())"
   ]
  },
  {
   "cell_type": "markdown",
   "metadata": {},
   "source": [
    "**Attenzione: Runnare prima le prime celle, quelle relative agli istogrammi, poi le successive**\n",
    "\n",
    "I missing values negli attributi numerici sono gestiti nel seguente modo:\n",
    "1. Valutiamo le frequenze relative agli intervalli scelti come bins negli istrogrammi\n",
    "2. Sostituiamo i missing values con valori estratti dalla stessa distribuzione, ovvero aggiungiamo ad   ogni bin un numero pari alla mediana del bin con una probabilità uguale alla frequenza di quel bin"
   ]
  },
  {
   "cell_type": "markdown",
   "metadata": {},
   "source": [
    "**Age**"
   ]
  },
  {
   "cell_type": "code",
   "execution_count": null,
   "metadata": {},
   "outputs": [],
   "source": [
    "plt.hist(df['Age'], bins=9,edgecolor='k')\n",
    "plt.xticks(np.arange(18,60+6,7))\n",
    "data = df['Age'].fillna(0)\n",
    "bins = np.arange(18,60,7)\n",
    "histdata = np.histogram(data,bins)\n",
    "print(histdata)\n",
    "frequencies = histdata[0]/1258\n",
    "valore_medio = histdata[1] + 3.5 \n",
    "print(a, valore_medio)"
   ]
  },
  {
   "cell_type": "code",
   "execution_count": null,
   "metadata": {},
   "outputs": [],
   "source": [
    "index_list = df['Age'].index[df['Age'].apply(np.isnan)]\n",
    "for index in index_list:\n",
    "        n = np.random.random()\n",
    "        if n < 0.043:\n",
    "            df['Age'][index] = 21.5\n",
    "        if (n>0.043) and (n<0.215):\n",
    "            df['Age'][index] = 27.5\n",
    "        if (n>0.215) and (n<0.485):\n",
    "            df['Age'][index] = 33.5\n",
    "        if (n>0.485) and (n<0.706):\n",
    "            df['Age'][index] = 39.5\n",
    "        if (n>0.706) and (n<0.853):\n",
    "            df['Age'][index] = 45.5\n",
    "        if (n>0.853) and (n<0.941):\n",
    "            df['Age'][index] = 51.5\n",
    "        if (n>0.941) and (n<1.):\n",
    "            df['Age'][index] = 57.5"
   ]
  },
  {
   "cell_type": "markdown",
   "metadata": {},
   "source": [
    "**MonthlyIncome**"
   ]
  },
  {
   "cell_type": "code",
   "execution_count": null,
   "metadata": {},
   "outputs": [],
   "source": [
    "plt.hist(df['MonthlyIncome'], bins=9,edgecolor='k')\n",
    "plt.xticks(np.arange(1009,19999+2110,2110))\n",
    "data = df['MonthlyIncome'].fillna(0)\n",
    "bins = np.arange(1009,19999,2110)\n",
    "histdata = np.histogram(data,bins)\n",
    "print(histdata)\n",
    "frequencies = histdata[0]/1190\n",
    "valore_medio = histdata[1] + 1055 \n",
    "print(a, valore_medio)"
   ]
  },
  {
   "cell_type": "code",
   "execution_count": null,
   "metadata": {},
   "outputs": [],
   "source": [
    "index_list = df['MonthlyIncome'].index[df['MonthlyIncome'].apply(np.isnan)]\n",
    "for index in index_list:\n",
    "        n = np.random.random()\n",
    "        if n < 0.271:\n",
    "            df['MonthlyIncome'][index] = 2064\n",
    "        if (n>0.271) and (n<0.541):\n",
    "            df['MonthlyIncome'][index] = 4174\n",
    "        if (n>0.541) and (n<0.715):\n",
    "            df['MonthlyIncome'][index] = 6284\n",
    "        if (n>0.715) and (n<0.777):\n",
    "            df['MonthlyIncome'][index] = 8394\n",
    "        if (n>0.777) and (n<0.854):\n",
    "            df['MonthlyIncome'][index] = 10504\n",
    "        if (n>0.854) and (n<0.893):\n",
    "            df['MonthlyIncome'][index] = 12614\n",
    "        if (n>0.893) and (n<0.933):\n",
    "            df['MonthlyIncome'][index] = 14724\n",
    "        if (n>0.933) and (n<0.951):\n",
    "            df['MonthlyIncome'][index] = 16834\n",
    "        if (n>0.951) and (n<1.):\n",
    "            df['MonthlyIncome'][index] = 18944"
   ]
  },
  {
   "cell_type": "markdown",
   "metadata": {},
   "source": [
    "**TrainingTimesLastYear**"
   ]
  },
  {
   "cell_type": "code",
   "execution_count": null,
   "metadata": {},
   "outputs": [],
   "source": [
    "plt.hist(df['TrainingTimesLastYear'], bins=(np.arange(0,7+1.5,)-0.5),edgecolor='k')\n",
    "plt.xticks(np.arange(0,7,1))\n",
    "data = df['TrainingTimesLastYear'].fillna(10)\n",
    "bins = np.arange(0,8,1)\n",
    "histdata = np.histogram(data,bins)\n",
    "print(histdata)\n",
    "frequencies = histdata[0]/1178\n",
    "valore_medio = histdata[1] \n",
    "print(frequencies, valore_medio)"
   ]
  },
  {
   "cell_type": "code",
   "execution_count": null,
   "metadata": {},
   "outputs": [],
   "source": [
    "index_list = df['TrainingTimesLastYear'].index[df['TrainingTimesLastYear'].apply(np.isnan)]\n",
    "for index in index_list:\n",
    "        n = np.random.random()\n",
    "        if n < 0.0373:\n",
    "            df['TrainingTimesLastYear'][index] = 0\n",
    "        if (n>0.0373) and (n<0.087):\n",
    "            df['TrainingTimesLastYear'][index] = 1\n",
    "        if (n>0.087) and (n<0.454):\n",
    "            df['TrainingTimesLastYear'][index] = 2\n",
    "        if (n>0.454) and (n<0.786):\n",
    "            df['TrainingTimesLastYear'][index] = 3\n",
    "        if (n>0.786) and (n<0.866):\n",
    "            df['TrainingTimesLastYear'][index] = 4\n",
    "        if (n>0.866) and (n<0.956):\n",
    "            df['TrainingTimesLastYear'][index] = 5\n",
    "        if (n>0.956) and (n<1.):\n",
    "            df['TrainingTimesLastYear'][index] = 6"
   ]
  },
  {
   "cell_type": "markdown",
   "metadata": {},
   "source": [
    "**YearsAtCompany**"
   ]
  },
  {
   "cell_type": "code",
   "execution_count": null,
   "metadata": {},
   "outputs": [],
   "source": [
    "plt.hist(df['YearsAtCompany'], bins=8,edgecolor='k')\n",
    "plt.xticks(np.arange(0,45,5))\n",
    "data = df['YearsAtCompany'].fillna(200)\n",
    "bins = np.arange(0,45,5)\n",
    "histdata = np.histogram(data,bins)\n",
    "print(histdata)\n",
    "frequencies = histdata[0]/1396\n",
    "valore_medio = histdata[1] + 2.5\n",
    "print(frequencies, valore_medio)"
   ]
  },
  {
   "cell_type": "code",
   "execution_count": null,
   "metadata": {},
   "outputs": [],
   "source": [
    "index_list = df['YearsAtCompany'].index[df['YearsAtCompany'].apply(np.isnan)]\n",
    "for index in index_list:\n",
    "        n = np.random.random()\n",
    "        if n < 0.396:\n",
    "            df['YearsAtCompany'][index] = 2.5\n",
    "        if (n>0.396) and (n<0.753):\n",
    "            df['YearsAtCompany'][index] = 7.5\n",
    "        if (n>0.753) and (n<0.894):\n",
    "            df['YearsAtCompany'][index] = 12.5\n",
    "        if (n>0.894) and (n<0.938):\n",
    "            df['YearsAtCompany'][index] = 17.5\n",
    "        if (n>0.938) and (n<0.981):\n",
    "            df['YearsAtCompany'][index] = 22.5\n",
    "        if (n>0.981) and (n<0.987):\n",
    "            df['YearsAtCompany'][index] = 27.5\n",
    "        if (n>0.989) and (n<0.995):\n",
    "            df['YearsAtCompany'][index] = 32.5\n",
    "        if (n>0.995) and (n<1.):\n",
    "            df['YearsAtCompany'][index] = 37.5"
   ]
  },
  {
   "cell_type": "markdown",
   "metadata": {},
   "source": [
    "Data Frame senza i Missing Values"
   ]
  },
  {
   "cell_type": "code",
   "execution_count": null,
   "metadata": {},
   "outputs": [],
   "source": [
    "#df.to_csv('DataFrameWM.csv', index = False)"
   ]
  },
  {
   "cell_type": "code",
   "execution_count": null,
   "metadata": {},
   "outputs": [],
   "source": [
    "df = pd.read_csv('DataFrameWM.csv')\n",
    "df.shape"
   ]
  },
  {
   "cell_type": "markdown",
   "metadata": {},
   "source": [
    "**Matrice di Correlazione**"
   ]
  },
  {
   "cell_type": "code",
   "execution_count": null,
   "metadata": {},
   "outputs": [],
   "source": [
    "corrmatrix = df.corr()\n",
    "print(corrmatrix)\n",
    "for index in range(len(corrmatrix.columns)): # Iteration for each columns\n",
    "    vecmax = corrmatrix.iloc[index]\n",
    "    vecmax2 = [i for i in vecmax if i < 1]\n",
    "    print(max(vecmax2))\n",
    "corrmatrix.to_excel('MatriceDiCorrelazione.xlsx') # ESPORTA MATRICE CORRELAZIONE\n",
    "pd.plotting.scatter_matrix(df.iloc[:,:], diagonal='kde') # PLOT MATRICE SCATTER\n",
    "plt.show()"
   ]
  },
  {
   "cell_type": "code",
   "execution_count": null,
   "metadata": {
    "id": "6PHizQSSBKDU"
   },
   "outputs": [],
   "source": [
    "plt.hist(df.values[:,32],bins = 5, edgecolor='k') #edge color,hist separati da linea NEGRA\n",
    "plt.xticks(np.arange(0,20.4, 3.4))\n",
    "plt.xlabel('Years With Curr Manager ')\n",
    "plt.ylabel('Number of employes')\n",
    "\n",
    "# handles=[Line2D([0],[0],marker='o',color='w',linestyle='',\n",
    "#                       markerfacecolor='w'),Line2D([0],[0],marker='o',color='w',\n",
    "#                       markerfacecolor='w'),Line2D([0],[0],marker='o',color='w',\n",
    "#                       markerfacecolor='w'),Line2D([0],[0],marker='o',color='w',\n",
    "#                       markerfacecolor='w')]\n",
    "\n",
    "# labels=['1 Low','2 Medium','3 High','4 Very high']\n",
    "# plt.legend(handles,labels, edgecolor='w', loc='upper left')\n",
    "\n",
    "#sub plot organizzati in matrici, una sola figura più plot\n",
    "# figure, axes = plt.subplots(4, 4)\n",
    "# # df['Age'].plot(ax=axes[0])\n",
    "# for i in range(0,4):\n",
    "#     for j in range(0,4):\n",
    "#         df['Age'].plot(ax=axes[i,j])\n",
    "\n",
    "#bins = np.arange(x0, x1 + 1.5) - 0.5 # per centrare i bin\n",
    "# plt.savefig(\"figure.png\") # save as png"
   ]
  },
  {
   "cell_type": "markdown",
   "metadata": {
    "id": "oYjRHp0zARVz"
   },
   "source": [
    "# Outliers"
   ]
  },
  {
   "cell_type": "markdown",
   "metadata": {
    "id": "FWNr2iPHACRi"
   },
   "source": [
    " **Grab Test**"
   ]
  },
  {
   "cell_type": "code",
   "execution_count": null,
   "metadata": {},
   "outputs": [],
   "source": [
    "from outliers import smirnov_grubbs as grubbs"
   ]
  },
  {
   "cell_type": "code",
   "execution_count": null,
   "metadata": {
    "id": "I9HdzTja_crv"
   },
   "outputs": [],
   "source": [
    "for index in df.select_dtypes('number'):\n",
    "    outremove = grubbs.max_test_indices(df.select_dtypes('number')[index], alpha=0.05)\n",
    "    outremove1 = grubbs.max_test_outliers(df.select_dtypes('number')[index], alpha=0.05)\n",
    "    #print(df.select_dtypes('number').shape, outremove.shape)\n",
    "    print(index,outremove, outremove1)"
   ]
  },
  {
   "cell_type": "markdown",
   "metadata": {},
   "source": [
    "Il parametro alpha rappresenta il livello di significatività. \n",
    "I nostri dati, comunque, non seguono una distribuzione gaussiana, condizione necessaria per poter utilizzare tale test"
   ]
  },
  {
   "cell_type": "markdown",
   "metadata": {
    "id": "n5z43C79_cr3"
   },
   "source": [
    "**Boxplot**\n"
   ]
  },
  {
   "cell_type": "code",
   "execution_count": null,
   "metadata": {},
   "outputs": [],
   "source": [
    "df = pd.read_csv('DataFrameWM.csv')\n",
    "for element in df.select_dtypes('number'):\n",
    "    plt.figure()\n",
    "    df.boxplot(element, return_type=None)\n",
    "    "
   ]
  },
  {
   "cell_type": "markdown",
   "metadata": {},
   "source": [
    "Visualizzati i BoxPlot, eliminiamo gli outliers"
   ]
  },
  {
   "cell_type": "code",
   "execution_count": null,
   "metadata": {},
   "outputs": [],
   "source": [
    "fil = (df['TotalWorkingYears'] > 28)\n",
    "df.drop(list(df.index[fil == True]), inplace=True)\n",
    "\n",
    "fil = (df['YearsWithCurrManager'] > 14)\n",
    "print(list(df.index[fil == True]))\n",
    "df.drop(list(df.index[fil == True]), inplace=True)\n",
    "\n",
    "fil = (df['YearsSinceLastPromotion'] > 7)\n",
    "df.drop(list(df.index[fil == True]), inplace=True)\n",
    "\n",
    "fil = (df['MonthlyIncome'] > 16659)\n",
    "df.drop(list(df.index[fil == True]), inplace=True)\n",
    "\n",
    "fil = (df['NumCompaniesWorked'] > 8)\n",
    "df.drop(list(df.index[fil == True]), inplace=True)\n",
    "\n",
    "fil = (df['StockOptionLevel'] > 2)\n",
    "df.drop(list(df.index[fil == True]), inplace=True)\n",
    "\n",
    "fil = (df['TrainingTimesLastYear'] > 4)\n",
    "df.drop(list(df.index[fil == True]), inplace=True)\n",
    "\n",
    "fil = (df['TrainingTimesLastYear'] < 1)\n",
    "df.drop(list(df.index[fil == True]), inplace=True)\n",
    "\n",
    "fil = (df['YearsAtCompany'] > 18)\n",
    "df.drop(list(df.index[fil == True]), inplace=True)\n",
    "\n",
    "fil = (df['YearsInCurrentRole'] > 14)\n",
    "df.drop(list(df.index[fil == True]), inplace=True)"
   ]
  },
  {
   "cell_type": "markdown",
   "metadata": {},
   "source": [
    "Nuovo Data Frame senza gli outliers"
   ]
  },
  {
   "cell_type": "code",
   "execution_count": null,
   "metadata": {},
   "outputs": [],
   "source": [
    "df.to_csv('DataFrameClustering.csv')"
   ]
  },
  {
   "cell_type": "markdown",
   "metadata": {},
   "source": [
    "**Principal Component Analysis**"
   ]
  },
  {
   "cell_type": "code",
   "execution_count": null,
   "metadata": {},
   "outputs": [],
   "source": [
    "color_list=['tab:blue', 'tab:orange', 'tab:green', 'tab:red', 'tab:purple', 'tab:brown', 'tab:pink', 'tab:gray', 'tab:olive', 'tab:cyan']\n",
    "for val in df.select_dtypes(exclude = 'number'):\n",
    "    fig=plt.figure()\n",
    "    ax=fig.add_subplot(111,projection='3d')\n",
    "    x0 = df.select_dtypes('number').values\n",
    "    x1 = StandardScaler().fit_transform(x0)\n",
    "    pca = PCA(n_components = 3)\n",
    "    principalComponents = pca.fit_transform(x1)\n",
    "    principalDf = pd.DataFrame(data = principalComponents, columns = ['principal component 1',\n",
    "                                                'principal component 2', 'principal component 3'])\n",
    "    finalDf = pd.concat([principalDf, df[[val]]], axis = 1)\n",
    "    targets = list(pd.unique(df[val]))\n",
    "    color = color_list[0:len(targets)]\n",
    "\n",
    "    for target, color in zip(targets,colors):\n",
    "        indicesToKeep = finalDf[val] == target\n",
    "        ax.scatter(finalDf.loc[indicesToKeep, 'principal component 1'],\n",
    "                    finalDf.loc[indicesToKeep, 'principal component 2'],\n",
    "                    finalDf.loc[indicesToKeep, 'principal component 3'],\n",
    "                    c = color, s=50)\n",
    "    plt.legend(targets)\n",
    "    print(pca.explained_variance_ratio_)"
   ]
  },
  {
   "cell_type": "markdown",
   "metadata": {},
   "source": [
    "Siccome la somma delle frazioni della varianza conservata per le prime 3 componenti principali non arriva nemmeno a 0.5 (circa 0.4), abbiamo concluso che tale approccio non è utilizzabile per il nostro dataframe"
   ]
  },
  {
   "cell_type": "markdown",
   "metadata": {
    "id": "OdOIqBaCAewC"
   },
   "source": [
    "# Viasulizzazione dei dati"
   ]
  },
  {
   "cell_type": "markdown",
   "metadata": {
    "id": "_lULnl3lAgis"
   },
   "source": [
    "**Scatter plot**"
   ]
  },
  {
   "cell_type": "code",
   "execution_count": null,
   "metadata": {
    "id": "GOYsuEo2_cr1"
   },
   "outputs": [],
   "source": [
    "for index_n, columns in numeric.iteritems():\n",
    "    if index_n !='Age':\n",
    "        for index, columns in categorical.iteritems():\n",
    "            for c in categorical[index].unique():\n",
    "                    dfc = df[df[index] == c]\n",
    "                    plt.scatter(dfc['Age'], dfc[index_n], label=c)\n",
    "            plt.legend(bbox_to_anchor=(1,1))\n",
    "            plt.xlabel('Age')\n",
    "            plt.title('Attribute: '+index)\n",
    "            plt.ylabel(index_n)\n",
    "            plt.show()\n",
    "for index, columns in categorical.iteritems():\n",
    "    for c in categorical[index].unique():\n",
    "        dfc = df[df[index] == c]\n",
    "        plt.scatter(dfc['YearsInCurrentRole'], dfc['YearsWithCurrManager'], label=c)\n",
    "    plt.legend(bbox_to_anchor=(1,1))\n",
    "    plt.show()"
   ]
  },
  {
   "cell_type": "markdown",
   "metadata": {},
   "source": [
    "# Clustering"
   ]
  },
  {
   "cell_type": "code",
   "execution_count": null,
   "metadata": {},
   "outputs": [],
   "source": [
    "df = pd.read_csv('DataFrameClustering.csv')"
   ]
  },
  {
   "cell_type": "code",
   "execution_count": null,
   "metadata": {},
   "outputs": [],
   "source": [
    "from scipy.stats import mode\n",
    "from scipy.spatial.distance import pdist\n",
    "from scipy.cluster.hierarchy import linkage, dendrogram\n",
    "from sklearn.preprocessing import StandardScaler, MinMaxScaler\n",
    "from sklearn.cluster import DBSCAN\n",
    "from sklearn.cluster import KMeans\n",
    "from sklearn.metrics import silhouette_score"
   ]
  },
  {
   "cell_type": "markdown",
   "metadata": {},
   "source": [
    "La prima cosa da fare è trasformare i dati in maniera tale da evitare qualunque bias dovuto ai differenti range negli attributi numerici. I metodi più usati sono lo Z-Score e MinMax"
   ]
  },
  {
   "cell_type": "code",
   "execution_count": null,
   "metadata": {},
   "outputs": [],
   "source": [
    "# scaler.transform(numeric.head().values)\n",
    "numeric = df.select_dtypes('number')\n",
    "scaler = MinMaxScaler()\n",
    "X = scaler.fit_transform(numeric.values)"
   ]
  },
  {
   "cell_type": "markdown",
   "metadata": {},
   "source": [
    "**K-MEANS**"
   ]
  },
  {
   "cell_type": "code",
   "execution_count": null,
   "metadata": {},
   "outputs": [],
   "source": [
    "kmeans = KMeans(n_clusters=3, n_init=5, max_iter=500)\n",
    "kmeans.fit(X)\n",
    "# np.unique(kmeans.labels_, return_counts=True) # grandezza di ogni cluster\n",
    "hist, bins = np.histogram(kmeans.labels_, bins=range(0, len(set(kmeans.labels_)) + 1))\n",
    "# print(dict(zip(bins, hist))) \n",
    "i = 0\n",
    "for index, columns in numeric.iteritems():\n",
    "    for index_n, columns in numeric.iteritems():\n",
    "        if index != index_n:\n",
    "            #print(np.unique(dbscan.labels_, return_counts = True))\n",
    "            plt.scatter(numeric[index_n], numeric[index], c=kmeans.labels_, s=30)\n",
    "            plt.xlabel(f'{index_n}')\n",
    "            plt.ylabel(f'{index}')\n",
    "            i += 1\n",
    "            plt.show()\n",
    "            print(i)"
   ]
  },
  {
   "cell_type": "markdown",
   "metadata": {},
   "source": [
    "**Centroidi K-Means**"
   ]
  },
  {
   "cell_type": "code",
   "execution_count": null,
   "metadata": {},
   "outputs": [],
   "source": [
    "# kmeans.cluster_centers_   # centroidi\n",
    "centers = scaler.inverse_transform(kmeans.cluster_centers_)\n",
    "plt.scatter(df['Age'], df['DailyRate'], c=kmeans.labels_, s=20)\n",
    "plt.scatter(centers[:, 0], centers[:, 1], s=200, marker='*', c='k')\n",
    "plt.show()"
   ]
  },
  {
   "cell_type": "markdown",
   "metadata": {},
   "source": [
    "**SSE and Clustering Validation**"
   ]
  },
  {
   "cell_type": "code",
   "execution_count": null,
   "metadata": {},
   "outputs": [],
   "source": [
    "print('SSE %s' % kmeans.inertia_)\n",
    "print('Silhouette %s' % silhouette_score(X, kmeans.labels_))"
   ]
  },
  {
   "cell_type": "markdown",
   "metadata": {},
   "source": [
    "Knee Method per stimare il miglior numero K di cluster"
   ]
  },
  {
   "cell_type": "code",
   "execution_count": null,
   "metadata": {},
   "outputs": [],
   "source": [
    "sse_list = list()\n",
    "max_k = 50\n",
    "for k in range(2, max_k + 1):\n",
    "    kmeans = KMeans(n_clusters=k, n_init=10, max_iter=100)\n",
    "    kmeans.fit(X)\n",
    "    \n",
    "    sse = kmeans.inertia_\n",
    "    sse_list.append(sse)\n",
    "    \n",
    "plt.plot(range(2, len(sse_list) + 2), sse_list)\n",
    "plt.ylabel('SSE', fontsize=22)\n",
    "plt.xlabel('K', fontsize=22)\n",
    "plt.show()"
   ]
  },
  {
   "cell_type": "markdown",
   "metadata": {},
   "source": [
    "# HIEARCHICAL"
   ]
  },
  {
   "cell_type": "code",
   "execution_count": null,
   "metadata": {},
   "outputs": [],
   "source": [
    "data_dist = pdist(X, metric='euclidean')\n",
    "data_link = linkage(data_dist, method='average', metric='euclidean')\n",
    "res = dendrogram(data_link, color_threshold=1.5, truncate_mode='level')\n",
    "plt.savefig('myimage.svg', format='svg', dpi=1200)"
   ]
  },
  {
   "cell_type": "markdown",
   "metadata": {},
   "source": [
    "# DB SCAN"
   ]
  },
  {
   "cell_type": "code",
   "execution_count": null,
   "metadata": {},
   "outputs": [],
   "source": [
    "numeric = df.select_dtypes('number')"
   ]
  },
  {
   "cell_type": "code",
   "execution_count": null,
   "metadata": {},
   "outputs": [],
   "source": [
    "dbscan = DBSCAN(eps=1.1, min_samples=10)\n",
    "dbscan.fit(X)\n",
    "for val in numeric:\n",
    "    plt.scatter(numeric['Age'], numeric[val], c=dbscan.labels_)\n",
    "    plt.xlabel('Age')\n",
    "    plt.ylabel(f'{val}')\n",
    "    plt.show()"
   ]
  },
  {
   "cell_type": "markdown",
   "metadata": {},
   "source": [
    "**Determinazione di eps**"
   ]
  },
  {
   "cell_type": "code",
   "execution_count": null,
   "metadata": {},
   "outputs": [],
   "source": [
    "dist = pdist(X, 'euclidean') #pair wise distance\n",
    "dist = squareform(dist) #distance matrix given the vector dist\n",
    "k = 10\n",
    "kth_distances = list()\n",
    "for d in dist:\n",
    "    index_kth_distance = np.argsort(d)[k]\n",
    "    kth_distances.append(d[index_kth_distance])\n",
    "\n",
    "plt.plot(range(0, len(kth_distances)), sorted(kth_distances))\n",
    "plt.ylabel('dist from %sth neighbor' %k)\n",
    "plt.xlabel('sorted distances')\n",
    "plt.grid(True)\n",
    "plt.show()"
   ]
  }
 ],
 "metadata": {
  "colab": {
   "collapsed_sections": [
    "xPre4_9kAYt1",
    "OdOIqBaCAewC"
   ],
   "name": "DataMiningProject.ipynb",
   "provenance": []
  },
  "kernelspec": {
   "display_name": "Python 3",
   "language": "python",
   "name": "python3"
  },
  "language_info": {
   "codemirror_mode": {
    "name": "ipython",
    "version": 3
   },
   "file_extension": ".py",
   "mimetype": "text/x-python",
   "name": "python",
   "nbconvert_exporter": "python",
   "pygments_lexer": "ipython3",
   "version": "3.8.3"
  }
 },
 "nbformat": 4,
 "nbformat_minor": 1
}
